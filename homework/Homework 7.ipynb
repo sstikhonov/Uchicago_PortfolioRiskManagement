{
 "cells": [
  {
   "cell_type": "markdown",
   "id": "3fd357d3",
   "metadata": {},
   "source": [
    "# Homework 7\n",
    "\n",
    "## FINM 36700 - 2023\n",
    "\n",
    "### UChicago Financial Mathematics\n",
    "\n",
    "**Professor**\n",
    "* Mark Hendricks\n",
    "* hendricks@uchicago.edu"
   ]
  },
  {
   "cell_type": "markdown",
   "id": "a56dd049",
   "metadata": {},
   "source": [
    "**Students**\n",
    "\n",
    "Anya Zakharov azakharov@uchicago.edu\n",
    "\n",
    "Gleb Skvortsov goskvortsov@uchicago.edu\n",
    "\n",
    "Kai Wen Tay kaiwent@uchicago.edu\n",
    "\n",
    "Ka Hang Toong khtoong@uchicago.edu\n",
    "\n",
    "\n",
    "Tikhonov Sergei tikhonov@uchicago.edu\n"
   ]
  },
  {
   "cell_type": "markdown",
   "id": "879839da",
   "metadata": {},
   "source": [
    "## Modules"
   ]
  },
  {
   "cell_type": "code",
   "execution_count": 1,
   "id": "359f0cfd",
   "metadata": {},
   "outputs": [],
   "source": [
    "import os\n",
    "import pandas as pd\n",
    "from scipy.stats import norm\n",
    "import numpy as np\n",
    "import statsmodels.api as sm\n",
    "import matplotlib.pyplot as plt\n",
    "import seaborn as sns\n",
    "from arch import arch_model\n",
    "from arch.univariate import GARCH\n",
    "import warnings\n",
    "warnings.filterwarnings(\"ignore\")\n",
    "\n",
    "%matplotlib inline\n",
    "\n",
    "import matplotlib.pyplot as plt"
   ]
  },
  {
   "cell_type": "markdown",
   "id": "24d471c8",
   "metadata": {},
   "source": [
    "## Helping functions"
   ]
  },
  {
   "cell_type": "code",
   "execution_count": 2,
   "id": "4d50b017",
   "metadata": {},
   "outputs": [],
   "source": [
    "def performance_summary(return_data):\n",
    "\n",
    "    summary_stats = return_data.mean().to_frame('Mean').apply(lambda x: x*12)\n",
    "    summary_stats['Volatility'] = return_data.std().apply(lambda x: x*np.sqrt(12))\n",
    "    summary_stats['Sharpe Ratio'] = summary_stats['Mean']/summary_stats['Volatility']\n",
    "    \n",
    "    summary_stats['Skewness'] = return_data.skew()\n",
    "    summary_stats['Excess Kurtosis'] = return_data.kurtosis()\n",
    "    summary_stats['VaR (0.05)'] = return_data.quantile(.05, axis = 0)\n",
    "    summary_stats['CVaR (0.05)'] = return_data[return_data <= return_data.quantile(.05, axis = 0)].mean()\n",
    "    summary_stats['Min'] = return_data.min()\n",
    "    summary_stats['Max'] = return_data.max()\n",
    "    \n",
    "    wealth_index = 1000*(1+return_data).cumprod()\n",
    "    previous_peaks = wealth_index.cummax()\n",
    "    drawdowns = (wealth_index - previous_peaks)/previous_peaks\n",
    "\n",
    "    summary_stats['Max Drawdown'] = drawdowns.min()\n",
    "    summary_stats['Peak'] = [previous_peaks[col][:drawdowns[col].idxmin()].idxmax() for col in previous_peaks.columns]\n",
    "    summary_stats['Bottom'] = drawdowns.idxmin()\n",
    "    \n",
    "    recovery_date = []\n",
    "    for col in wealth_index.columns:\n",
    "        prev_max = previous_peaks[col][:drawdowns[col].idxmin()].max()\n",
    "        recovery_wealth = pd.DataFrame([wealth_index[col][drawdowns[col].idxmin():]]).T\n",
    "        recovery_date.append(recovery_wealth[recovery_wealth[col] >= prev_max].index.min())\n",
    "    summary_stats['Recovery'] = recovery_date\n",
    "    \n",
    "    return summary_stats"
   ]
  },
  {
   "cell_type": "code",
   "execution_count": 3,
   "id": "bbb68f7b",
   "metadata": {},
   "outputs": [],
   "source": [
    "def regression_based_performance(factor,fund_ret,rf,constant = True):\n",
    "\n",
    "    if constant:\n",
    "        X = sm.tools.add_constant(factor)\n",
    "    else:\n",
    "        X = factor\n",
    "    y=fund_ret\n",
    "    model = sm.OLS(y,X,missing='drop').fit()\n",
    "    \n",
    "    if constant:\n",
    "        beta = model.params[1:]\n",
    "        alpha = round(float(model.params['const']),6) *12\n",
    "\n",
    "        \n",
    "    else:\n",
    "        beta = model.params\n",
    "    treynor_ratio = ((fund_ret - rf).mean()*12)/beta[0]\n",
    "    tracking_error = (model.resid.std()*np.sqrt(12))\n",
    "    if constant:        \n",
    "        information_ratio = model.params[0]*12/tracking_error\n",
    "    r_squared = model.rsquared\n",
    "    if constant:\n",
    "        return (beta,treynor_ratio,information_ratio,alpha,r_squared,tracking_error,model.resid,model)\n",
    "    else:\n",
    "        return (beta,treynor_ratio,r_squared,tracking_error,model.resid)"
   ]
  },
  {
   "cell_type": "markdown",
   "id": "d1d86266",
   "metadata": {},
   "source": [
    "## Reading Data"
   ]
  },
  {
   "cell_type": "code",
   "execution_count": 4,
   "id": "b0095801",
   "metadata": {},
   "outputs": [],
   "source": [
    "gmo_total_ret = pd.read_excel('gmo_analysis_data.xlsx', sheet_name = 'returns (total)', index_col = 0)\n",
    "gmo_total_ret.index.name = 'Date'"
   ]
  },
  {
   "cell_type": "code",
   "execution_count": 5,
   "id": "7d88ed65",
   "metadata": {},
   "outputs": [],
   "source": [
    "rf = pd.read_excel('gmo_analysis_data.xlsx', sheet_name = 'risk-free rate', index_col = 0)\n",
    "rf.index.name = 'Date'"
   ]
  },
  {
   "cell_type": "code",
   "execution_count": 6,
   "id": "18892eac",
   "metadata": {},
   "outputs": [],
   "source": [
    "gmo_signals = pd.read_excel('gmo_analysis_data.xlsx', sheet_name = 'signals', index_col = 0)\n",
    "gmo_signals.index.name = 'Date'"
   ]
  },
  {
   "cell_type": "code",
   "execution_count": 7,
   "id": "df8f5af4",
   "metadata": {},
   "outputs": [],
   "source": [
    "gmo_excess_ret = gmo_total_ret.subtract(rf['US3M'], axis = 0)"
   ]
  },
  {
   "cell_type": "markdown",
   "id": "fe21cca3",
   "metadata": {},
   "source": [
    "## 2) Analyzing GMO\n",
    "\n",
    "#### This section utilizes data in the file, `gmo_analysis_data.xlsx`.\n",
    "#### Examine GMO's performance. Use the risk-free rate to convert the total returns to excess returns"
   ]
  },
  {
   "cell_type": "markdown",
   "id": "71f934df",
   "metadata": {},
   "source": [
    "### 2.1) Calculate the mean, volatility, and Sharpe ratio for GMWAX. Do this for three samples:\n",
    "\n",
    "### • from inception through 2011\n",
    "### • 2012-present\n",
    "### • inception - present"
   ]
  },
  {
   "cell_type": "code",
   "execution_count": 8,
   "id": "ff91e529",
   "metadata": {},
   "outputs": [
    {
     "data": {
      "text/html": [
       "<div>\n",
       "<style scoped>\n",
       "    .dataframe tbody tr th:only-of-type {\n",
       "        vertical-align: middle;\n",
       "    }\n",
       "\n",
       "    .dataframe tbody tr th {\n",
       "        vertical-align: top;\n",
       "    }\n",
       "\n",
       "    .dataframe thead th {\n",
       "        text-align: right;\n",
       "    }\n",
       "</style>\n",
       "<table border=\"1\" class=\"dataframe\">\n",
       "  <thead>\n",
       "    <tr style=\"text-align: right;\">\n",
       "      <th></th>\n",
       "      <th>Mean</th>\n",
       "      <th>Volatility</th>\n",
       "      <th>Sharpe Ratio</th>\n",
       "    </tr>\n",
       "  </thead>\n",
       "  <tbody>\n",
       "    <tr>\n",
       "      <th>1993-2011</th>\n",
       "      <td>0.015827</td>\n",
       "      <td>0.125011</td>\n",
       "      <td>0.126603</td>\n",
       "    </tr>\n",
       "    <tr>\n",
       "      <th>2012-2023</th>\n",
       "      <td>0.036436</td>\n",
       "      <td>0.094503</td>\n",
       "      <td>0.385556</td>\n",
       "    </tr>\n",
       "    <tr>\n",
       "      <th>1993-2023</th>\n",
       "      <td>0.024859</td>\n",
       "      <td>0.112537</td>\n",
       "      <td>0.220898</td>\n",
       "    </tr>\n",
       "  </tbody>\n",
       "</table>\n",
       "</div>"
      ],
      "text/plain": [
       "               Mean  Volatility  Sharpe Ratio\n",
       "1993-2011  0.015827    0.125011      0.126603\n",
       "2012-2023  0.036436    0.094503      0.385556\n",
       "1993-2023  0.024859    0.112537      0.220898"
      ]
     },
     "execution_count": 8,
     "metadata": {},
     "output_type": "execute_result"
    }
   ],
   "source": [
    "time_period = [['1993','2011'], ['2012','2023'], ['1993','2023']]\n",
    "gmwax_performance = []\n",
    "\n",
    "for period in time_period:\n",
    "    summary = performance_summary(gmo_excess_ret.loc[period[0]:period[1], ['GMWAX']])\n",
    "    summary.index = [f'{period[0]}-{period[1]}']\n",
    "    gmwax_performance.append(summary)\n",
    "\n",
    "pd.concat(gmwax_performance)[['Mean', 'Volatility', 'Sharpe Ratio']]"
   ]
  },
  {
   "cell_type": "markdown",
   "id": "de4cd85c",
   "metadata": {},
   "source": [
    "### Has the mean, vol, and Sharpe changed much since the case?\n",
    "\n",
    "Since 2012, mean, volatility, and Sharpe ratio have increased dramatically, indicating that GMO's forecasts indeed worked. "
   ]
  },
  {
   "cell_type": "markdown",
   "id": "0d009470",
   "metadata": {},
   "source": [
    "### 2.2 GMO believes a risk premium is compensation for a security's tendency to lose money at \"bad times\". For all three samples, analyze extreme scenarios by looking at -\n",
    "### • Min return\n",
    "### • 5th percentile (VaR-5th)\n",
    "### • Maximum  Drawdown"
   ]
  },
  {
   "cell_type": "code",
   "execution_count": 9,
   "id": "a54d7d83",
   "metadata": {},
   "outputs": [
    {
     "data": {
      "text/html": [
       "<div>\n",
       "<style scoped>\n",
       "    .dataframe tbody tr th:only-of-type {\n",
       "        vertical-align: middle;\n",
       "    }\n",
       "\n",
       "    .dataframe tbody tr th {\n",
       "        vertical-align: top;\n",
       "    }\n",
       "\n",
       "    .dataframe thead th {\n",
       "        text-align: right;\n",
       "    }\n",
       "</style>\n",
       "<table border=\"1\" class=\"dataframe\">\n",
       "  <thead>\n",
       "    <tr style=\"text-align: right;\">\n",
       "      <th></th>\n",
       "      <th>Min</th>\n",
       "      <th>VaR (0.05)</th>\n",
       "      <th>Max Drawdown</th>\n",
       "    </tr>\n",
       "  </thead>\n",
       "  <tbody>\n",
       "    <tr>\n",
       "      <th>1993-2011</th>\n",
       "      <td>-0.149179</td>\n",
       "      <td>-0.059806</td>\n",
       "      <td>-0.472946</td>\n",
       "    </tr>\n",
       "    <tr>\n",
       "      <th>2012-2023</th>\n",
       "      <td>-0.118650</td>\n",
       "      <td>-0.037826</td>\n",
       "      <td>-0.226046</td>\n",
       "    </tr>\n",
       "    <tr>\n",
       "      <th>1993-2023</th>\n",
       "      <td>-0.149179</td>\n",
       "      <td>-0.047061</td>\n",
       "      <td>-0.472946</td>\n",
       "    </tr>\n",
       "  </tbody>\n",
       "</table>\n",
       "</div>"
      ],
      "text/plain": [
       "                Min  VaR (0.05)  Max Drawdown\n",
       "1993-2011 -0.149179   -0.059806     -0.472946\n",
       "2012-2023 -0.118650   -0.037826     -0.226046\n",
       "1993-2023 -0.149179   -0.047061     -0.472946"
      ]
     },
     "execution_count": 9,
     "metadata": {},
     "output_type": "execute_result"
    }
   ],
   "source": [
    "time_period = [['1993','2011'], ['2012','2023'], ['1993','2023']]\n",
    "gmwax_performance = []\n",
    "\n",
    "for period in time_period:\n",
    "    summary = performance_summary(gmo_excess_ret.loc[period[0]:period[1], ['GMWAX']])\n",
    "    summary.index = [f'{period[0]}-{period[1]}']\n",
    "    gmwax_performance.append(summary)\n",
    "\n",
    "pd.concat(gmwax_performance)[['Min', 'VaR (0.05)', 'Max Drawdown']]"
   ]
  },
  {
   "cell_type": "markdown",
   "id": "2c059345",
   "metadata": {},
   "source": [
    "### 2.2.a) Does GMWAX have high or low tail-risk as seen by these stats\n",
    "\n",
    "GMWAX seems to have low tail-risk as depicted by the tail risk statistics above. "
   ]
  },
  {
   "cell_type": "markdown",
   "id": "6262e8a1",
   "metadata": {},
   "source": [
    "### 2.2.b) Does that vary much across the two subsamples?\n",
    "\n",
    "The tail risk is especially low in the latter sub-period of 2012-2023."
   ]
  },
  {
   "cell_type": "markdown",
   "id": "bd0e10a4",
   "metadata": {},
   "source": [
    "### 2.3) For all three samples, regress excess returns of GMWAX on excess returns of SPY."
   ]
  },
  {
   "cell_type": "markdown",
   "id": "9fa17720",
   "metadata": {},
   "source": [
    "### 2.3.a) Report the estimated alpha, beta, and r-squared."
   ]
  },
  {
   "cell_type": "code",
   "execution_count": 10,
   "id": "24efc898",
   "metadata": {},
   "outputs": [
    {
     "data": {
      "text/html": [
       "<div>\n",
       "<style scoped>\n",
       "    .dataframe tbody tr th:only-of-type {\n",
       "        vertical-align: middle;\n",
       "    }\n",
       "\n",
       "    .dataframe tbody tr th {\n",
       "        vertical-align: top;\n",
       "    }\n",
       "\n",
       "    .dataframe thead th {\n",
       "        text-align: right;\n",
       "    }\n",
       "</style>\n",
       "<table border=\"1\" class=\"dataframe\">\n",
       "  <thead>\n",
       "    <tr style=\"text-align: right;\">\n",
       "      <th></th>\n",
       "      <th>SPY Beta</th>\n",
       "      <th>Alpha</th>\n",
       "      <th>R-Squared</th>\n",
       "    </tr>\n",
       "  </thead>\n",
       "  <tbody>\n",
       "    <tr>\n",
       "      <th>1993-2011</th>\n",
       "      <td>0.539615</td>\n",
       "      <td>-0.005748</td>\n",
       "      <td>0.507129</td>\n",
       "    </tr>\n",
       "    <tr>\n",
       "      <th>2012-2023</th>\n",
       "      <td>0.573764</td>\n",
       "      <td>-0.032652</td>\n",
       "      <td>0.754377</td>\n",
       "    </tr>\n",
       "    <tr>\n",
       "      <th>1993-2023</th>\n",
       "      <td>0.550609</td>\n",
       "      <td>-0.016572</td>\n",
       "      <td>0.582145</td>\n",
       "    </tr>\n",
       "  </tbody>\n",
       "</table>\n",
       "</div>"
      ],
      "text/plain": [
       "           SPY Beta     Alpha  R-Squared\n",
       "1993-2011  0.539615 -0.005748   0.507129\n",
       "2012-2023  0.573764 -0.032652   0.754377\n",
       "1993-2023  0.550609 -0.016572   0.582145"
      ]
     },
     "execution_count": 10,
     "metadata": {},
     "output_type": "execute_result"
    }
   ],
   "source": [
    "time_period = [['1993','2011'], ['2012','2023'], ['1993','2023']]\n",
    "gmwax_regress = []\n",
    "\n",
    "for period in time_period: \n",
    "    fund_ret = gmo_excess_ret.loc[period[0]:period[1], ['GMWAX']].dropna()\n",
    "    factor = gmo_excess_ret.loc[fund_ret.index[0]:fund_ret.index[-1], ['SPY']]\n",
    "    reg = regression_based_performance(factor, fund_ret, 0)\n",
    "    beta_mkt = reg[0][0]\n",
    "    alpha = reg[3]\n",
    "    r_squared = reg[4]\n",
    "    gmwax_regress.append(pd.DataFrame([[beta_mkt, alpha, r_squared]], \n",
    "                                       columns=['SPY Beta', 'Alpha', 'R-Squared'],\n",
    "                                       index = [f'{period[0]}-{period[1]}']))\n",
    "\n",
    "reg_performance = pd.concat(gmwax_regress)\n",
    "reg_performance"
   ]
  },
  {
   "cell_type": "markdown",
   "id": "6b86fb1b",
   "metadata": {},
   "source": [
    "### 2.3.b) Is GMWAX a low-beta strategy? Has that changed since the case?"
   ]
  },
  {
   "cell_type": "markdown",
   "id": "fe7576d0",
   "metadata": {},
   "source": [
    "Type of beta strategy: we can see relatively moderate beta that can indicate this it's indeed low-beta strategy\n",
    "\n",
    "Stability: The beta is stable in subsamples"
   ]
  },
  {
   "cell_type": "markdown",
   "id": "3159bdfd",
   "metadata": {},
   "source": [
    "### 2.3.c) Does GMWAX provide alpha? Has that changed across the subsamples?\n",
    "\n",
    "Even though the alpha increases (becomes less negative) during 2012-2022, GMWAX has a negative alpha across both sub-samples."
   ]
  },
  {
   "cell_type": "markdown",
   "id": "add62499",
   "metadata": {},
   "source": [
    "## 3 Forecast Regressions\n",
    "\n",
    "#### This section utilizes data in the file,`gmo_analysis_data.xlsx`."
   ]
  },
  {
   "cell_type": "markdown",
   "id": "facc1ede",
   "metadata": {},
   "source": [
    "### 3.1) Consider the lagged regression, where the regressor, ($X$), is a period behind the target, ($r^{SPY}$).\n",
    "\\begin{align}\n",
    "r^{SPY}_t = \\alpha^{SPY,X}+(\\beta^{SPY,X})'X_{t-1}+\\epsilon^{SPY,X}_t\n",
    "\\end{align}\n",
    "### Estimate (1) and report the $R^2$, as well as the OLS estimates for $\\alpha$ and $\\beta$. Do this for...\n",
    "- $X$ as a single regressor, the dividend-price ratio.\n",
    "- $X$ as a single regressor, the earnings-price ratio.\n",
    "- $X$ as three regressors, the dividend-price ratio, the earnings-price ratio, and the 10-year yield.\n",
    "\n",
    "### For each, report the r-squared."
   ]
  },
  {
   "cell_type": "code",
   "execution_count": 11,
   "id": "864e7fbb",
   "metadata": {},
   "outputs": [],
   "source": [
    "def predict_performance(SPY_data):\n",
    "    \n",
    "    fund_returns = SPY_data\n",
    "    signal_sets = [['DP'], ['EP'], ['DP', 'EP', 'US10Y']]\n",
    "    forecast_results = []\n",
    "    \n",
    "    for set_of_signals in signal_sets:\n",
    "        \n",
    "        shifted_factor = gmo_signals[set_of_signals].shift(1)\n",
    "        regression_result = regression_based_performance(shifted_factor, fund_returns, 0)\n",
    "        beta_values = []\n",
    "        header_columns = []\n",
    "        signal_names = []\n",
    "        \n",
    "        for signal in set_of_signals:\n",
    "            header_columns.append(f'{signal}-Beta')\n",
    "            signal_names.append(signal)\n",
    "            \n",
    "        signal_index = ', '.join(signal_names) if len(set_of_signals) > 1 else set_of_signals[0]\n",
    "            \n",
    "        beta_values.extend([regression_result[0][idx] for idx in range(len(set_of_signals))])\n",
    "        beta_values.extend([regression_result[3], regression_result[4]])\n",
    "\n",
    "        additional_columns = ['Alpha', 'R-Squared']\n",
    "        header_columns.extend(additional_columns)\n",
    "        \n",
    "        forecast_results.append(pd.DataFrame([beta_values], columns=header_columns, index=[signal_index]))\n",
    "        \n",
    "    return forecast_results\n"
   ]
  },
  {
   "cell_type": "code",
   "execution_count": 13,
   "id": "56f7359b",
   "metadata": {},
   "outputs": [],
   "source": [
    "forecasts = predict_performance(gmo_total_ret.loc[:, ['SPY']])"
   ]
  },
  {
   "cell_type": "code",
   "execution_count": 14,
   "id": "b09ff691",
   "metadata": {},
   "outputs": [
    {
     "data": {
      "text/html": [
       "<div>\n",
       "<style scoped>\n",
       "    .dataframe tbody tr th:only-of-type {\n",
       "        vertical-align: middle;\n",
       "    }\n",
       "\n",
       "    .dataframe tbody tr th {\n",
       "        vertical-align: top;\n",
       "    }\n",
       "\n",
       "    .dataframe thead th {\n",
       "        text-align: right;\n",
       "    }\n",
       "</style>\n",
       "<table border=\"1\" class=\"dataframe\">\n",
       "  <thead>\n",
       "    <tr style=\"text-align: right;\">\n",
       "      <th></th>\n",
       "      <th>DP-Beta</th>\n",
       "      <th>Alpha</th>\n",
       "      <th>R-Squared</th>\n",
       "    </tr>\n",
       "  </thead>\n",
       "  <tbody>\n",
       "    <tr>\n",
       "      <th>DP</th>\n",
       "      <td>0.009516</td>\n",
       "      <td>-0.113772</td>\n",
       "      <td>0.009359</td>\n",
       "    </tr>\n",
       "  </tbody>\n",
       "</table>\n",
       "</div>"
      ],
      "text/plain": [
       "     DP-Beta     Alpha  R-Squared\n",
       "DP  0.009516 -0.113772   0.009359"
      ]
     },
     "execution_count": 14,
     "metadata": {},
     "output_type": "execute_result"
    }
   ],
   "source": [
    "forecasts[0]"
   ]
  },
  {
   "cell_type": "code",
   "execution_count": 15,
   "id": "619ab82e",
   "metadata": {},
   "outputs": [
    {
     "data": {
      "text/html": [
       "<div>\n",
       "<style scoped>\n",
       "    .dataframe tbody tr th:only-of-type {\n",
       "        vertical-align: middle;\n",
       "    }\n",
       "\n",
       "    .dataframe tbody tr th {\n",
       "        vertical-align: top;\n",
       "    }\n",
       "\n",
       "    .dataframe thead th {\n",
       "        text-align: right;\n",
       "    }\n",
       "</style>\n",
       "<table border=\"1\" class=\"dataframe\">\n",
       "  <thead>\n",
       "    <tr style=\"text-align: right;\">\n",
       "      <th></th>\n",
       "      <th>EP-Beta</th>\n",
       "      <th>Alpha</th>\n",
       "      <th>R-Squared</th>\n",
       "    </tr>\n",
       "  </thead>\n",
       "  <tbody>\n",
       "    <tr>\n",
       "      <th>EP</th>\n",
       "      <td>0.003252</td>\n",
       "      <td>-0.073932</td>\n",
       "      <td>0.008692</td>\n",
       "    </tr>\n",
       "  </tbody>\n",
       "</table>\n",
       "</div>"
      ],
      "text/plain": [
       "     EP-Beta     Alpha  R-Squared\n",
       "EP  0.003252 -0.073932   0.008692"
      ]
     },
     "execution_count": 15,
     "metadata": {},
     "output_type": "execute_result"
    }
   ],
   "source": [
    "forecasts[1]"
   ]
  },
  {
   "cell_type": "code",
   "execution_count": 16,
   "id": "8d86806f",
   "metadata": {},
   "outputs": [
    {
     "data": {
      "text/html": [
       "<div>\n",
       "<style scoped>\n",
       "    .dataframe tbody tr th:only-of-type {\n",
       "        vertical-align: middle;\n",
       "    }\n",
       "\n",
       "    .dataframe tbody tr th {\n",
       "        vertical-align: top;\n",
       "    }\n",
       "\n",
       "    .dataframe thead th {\n",
       "        text-align: right;\n",
       "    }\n",
       "</style>\n",
       "<table border=\"1\" class=\"dataframe\">\n",
       "  <thead>\n",
       "    <tr style=\"text-align: right;\">\n",
       "      <th></th>\n",
       "      <th>DP-Beta</th>\n",
       "      <th>EP-Beta</th>\n",
       "      <th>US10Y-Beta</th>\n",
       "      <th>Alpha</th>\n",
       "      <th>R-Squared</th>\n",
       "    </tr>\n",
       "  </thead>\n",
       "  <tbody>\n",
       "    <tr>\n",
       "      <th>DP, EP, US10Y</th>\n",
       "      <td>0.008023</td>\n",
       "      <td>0.002694</td>\n",
       "      <td>-0.000982</td>\n",
       "      <td>-0.180768</td>\n",
       "      <td>0.016364</td>\n",
       "    </tr>\n",
       "  </tbody>\n",
       "</table>\n",
       "</div>"
      ],
      "text/plain": [
       "                DP-Beta   EP-Beta  US10Y-Beta     Alpha  R-Squared\n",
       "DP, EP, US10Y  0.008023  0.002694   -0.000982 -0.180768   0.016364"
      ]
     },
     "execution_count": 16,
     "metadata": {},
     "output_type": "execute_result"
    }
   ],
   "source": [
    "forecasts[2]"
   ]
  },
  {
   "cell_type": "markdown",
   "id": "082f6e95",
   "metadata": {},
   "source": [
    "### 3.2) For each of the three regressions, let’s try to utilize the resulting forecast in a trading strategy.\n",
    "- Build the forecasted SPY returns: $\\hat{r}^{SPY}_{t+1}$. Note that this denotes the forecast made using $X_t$ to forecast the $(t+1)$ return.\n",
    "- Set the scale of the investment in SPY equal to 100 times the forecasted value:\n",
    "$\n",
    "w_t = 100 \\hat{r}^{SPY}_{t+1}\n",
    "$\n",
    "- We are not taking this scaling too seriously. We just want the  strategy  to  go  bigger  inperiods where the forecast is high and to withdraw in periods where the forecast is low, or even negative.\n",
    "- Calcualte the return on this strategy:\n",
    "$\n",
    "r^X_{t+1} = w_tr^{SPY}_{t+1}\n",
    "$\n",
    "\n",
    "#### You should now have the trading strategy returns, $r^x$ for each of the forecasts. For each strategy, estimate:\n",
    "- mean, volatility, Sharpe,\n",
    "- max-drawdown\n",
    "- market alpha\n",
    "- market beta\n",
    "- market Information"
   ]
  },
  {
   "cell_type": "code",
   "execution_count": 17,
   "id": "ec85714f",
   "metadata": {},
   "outputs": [],
   "source": [
    "dp_forecast_rtn = (gmo_signals.loc[:,'DP'].shift(1).to_frame() * forecasts[0]['DP-Beta'])+forecasts[0]['Alpha']/12\n",
    "dp_forecast_rtn = dp_forecast_rtn.rename(columns={'DP':'Forecasted Return'}) * 100\n",
    "dp_strat_rtn = pd.DataFrame(dp_forecast_rtn['Forecasted Return']*gmo_total_ret.loc[:,['SPY']]['SPY'], \n",
    "                            columns=dp_forecast_rtn.columns, index=dp_forecast_rtn.index)"
   ]
  },
  {
   "cell_type": "code",
   "execution_count": 18,
   "id": "768560ec",
   "metadata": {},
   "outputs": [],
   "source": [
    "ep_forecast_rtn = (gmo_signals.loc[:,'EP'].shift(1).to_frame() * forecasts[1]['EP-Beta'])+forecasts[1]['Alpha']/12\n",
    "ep_forecast_rtn = ep_forecast_rtn.rename(columns={'EP':'Forecasted Return'}) * 100\n",
    "ep_strat_rtn = pd.DataFrame(ep_forecast_rtn['Forecasted Return']*gmo_total_ret.loc[:,['SPY']]['SPY'], \n",
    "                            columns=ep_forecast_rtn.columns, index=ep_forecast_rtn.index)"
   ]
  },
  {
   "cell_type": "code",
   "execution_count": 19,
   "id": "d589123b",
   "metadata": {},
   "outputs": [],
   "source": [
    "forecasted_rets = (np.array(gmo_signals.shift(1).loc[:,['DP','EP','US10Y']]) @ np.array(forecasts[2].loc[:,['DP-Beta','EP-Beta','US10Y-Beta']].T))\n",
    "fac3_forecast_rtn = (pd.DataFrame(forecasted_rets, columns = ['Forecasted Return'], index= gmo_signals.index)) \n",
    "fac3_forecast_rtn['Forecasted Return'] = (fac3_forecast_rtn['Forecasted Return'] + float(forecasts[2]['Alpha']/12))*100\n",
    "fac3_strat_rtn = pd.DataFrame(fac3_forecast_rtn['Forecasted Return'] *gmo_total_ret.loc[:,['SPY']]['SPY'],\n",
    "                              columns=fac3_forecast_rtn.columns, index=fac3_forecast_rtn.index)"
   ]
  },
  {
   "cell_type": "code",
   "execution_count": 41,
   "id": "55752947",
   "metadata": {},
   "outputs": [],
   "source": [
    "def summarize_strategies(strategies, factor, rf):\n",
    "\n",
    "    strat_summary = []\n",
    "    for name, data in strategies:\n",
    "        perf_summary = performance_summary(data)\n",
    "        perf_summary['Negative Risk Premium Months'] = len(data[data['Forecasted Return'] - rf['US3M'] < 0])\n",
    "        perf_summary['Total Months'] = len(data)\n",
    "        perf_summary.index = [name]\n",
    "        reg = regression_based_performance(factor[data.index[0]:], data, 0)\n",
    "        perf_summary['Market Beta'] = reg[0][0]\n",
    "        perf_summary['Market Alpha'] = reg[3]\n",
    "        perf_summary['Market Information Ratio'] = reg[2]\n",
    "        strat_summary.append(perf_summary)\n",
    "\n",
    "    strat_summary_df = pd.concat(strat_summary)\n",
    "    return strat_summary_df"
   ]
  },
  {
   "cell_type": "code",
   "execution_count": 43,
   "id": "87f16b2f",
   "metadata": {},
   "outputs": [
    {
     "data": {
      "text/html": [
       "<div>\n",
       "<style scoped>\n",
       "    .dataframe tbody tr th:only-of-type {\n",
       "        vertical-align: middle;\n",
       "    }\n",
       "\n",
       "    .dataframe tbody tr th {\n",
       "        vertical-align: top;\n",
       "    }\n",
       "\n",
       "    .dataframe thead th {\n",
       "        text-align: right;\n",
       "    }\n",
       "</style>\n",
       "<table border=\"1\" class=\"dataframe\">\n",
       "  <thead>\n",
       "    <tr style=\"text-align: right;\">\n",
       "      <th></th>\n",
       "      <th>Mean</th>\n",
       "      <th>Volatility</th>\n",
       "      <th>Sharpe Ratio</th>\n",
       "      <th>Max Drawdown</th>\n",
       "      <th>Market Beta</th>\n",
       "      <th>Market Alpha</th>\n",
       "      <th>Market Information Ratio</th>\n",
       "    </tr>\n",
       "  </thead>\n",
       "  <tbody>\n",
       "    <tr>\n",
       "      <th>DP</th>\n",
       "      <td>0.109539</td>\n",
       "      <td>0.148858</td>\n",
       "      <td>0.735859</td>\n",
       "      <td>-0.656967</td>\n",
       "      <td>0.861746</td>\n",
       "      <td>0.041112</td>\n",
       "      <td>0.549044</td>\n",
       "    </tr>\n",
       "    <tr>\n",
       "      <th>EP</th>\n",
       "      <td>0.108055</td>\n",
       "      <td>0.128905</td>\n",
       "      <td>0.838249</td>\n",
       "      <td>-0.385317</td>\n",
       "      <td>0.733554</td>\n",
       "      <td>0.049800</td>\n",
       "      <td>0.732559</td>\n",
       "    </tr>\n",
       "    <tr>\n",
       "      <th>DP-EP-US10Y</th>\n",
       "      <td>0.125094</td>\n",
       "      <td>0.145603</td>\n",
       "      <td>0.859145</td>\n",
       "      <td>-0.524606</td>\n",
       "      <td>0.778129</td>\n",
       "      <td>0.063300</td>\n",
       "      <td>0.721235</td>\n",
       "    </tr>\n",
       "  </tbody>\n",
       "</table>\n",
       "</div>"
      ],
      "text/plain": [
       "                 Mean  Volatility  Sharpe Ratio  Max Drawdown  Market Beta  \\\n",
       "DP           0.109539    0.148858      0.735859     -0.656967     0.861746   \n",
       "EP           0.108055    0.128905      0.838249     -0.385317     0.733554   \n",
       "DP-EP-US10Y  0.125094    0.145603      0.859145     -0.524606     0.778129   \n",
       "\n",
       "             Market Alpha  Market Information Ratio  \n",
       "DP               0.041112                  0.549044  \n",
       "EP               0.049800                  0.732559  \n",
       "DP-EP-US10Y      0.063300                  0.721235  "
      ]
     },
     "execution_count": 43,
     "metadata": {},
     "output_type": "execute_result"
    }
   ],
   "source": [
    "strategies = [\n",
    "    ('DP', dp_strat_rtn.dropna()),\n",
    "    ('EP', ep_strat_rtn.dropna()),\n",
    "    ('DP-EP-US10Y', fac3_strat_rtn.dropna())\n",
    "]\n",
    "factor = gmo_excess_ret.loc[:, ['SPY']]\n",
    "strat_summary_df = summarize_strategies(strategies, factor, rf)\n",
    "strat_summary_df.loc[:, ['Mean', 'Volatility', 'Sharpe Ratio', 'Max Drawdown',\n",
    "                                    'Market Beta', 'Market Alpha', 'Market Information Ratio']]"
   ]
  },
  {
   "cell_type": "markdown",
   "id": "11a171e7",
   "metadata": {},
   "source": [
    "### 3.3) GMO believes a risk premium is compensation for a security's tendency to lose money at \"bad times\". Let's consider risk characteristics."
   ]
  },
  {
   "cell_type": "markdown",
   "id": "03a4ac5e",
   "metadata": {},
   "source": [
    "### 3.3.a) For both strategies, the market, and GMO, calculate the monthly VaR for $\\pi=.05$. Just use the quantile of the historic data for this VaR calculation."
   ]
  },
  {
   "cell_type": "code",
   "execution_count": 44,
   "id": "8437a062",
   "metadata": {},
   "outputs": [
    {
     "data": {
      "text/html": [
       "<div>\n",
       "<style scoped>\n",
       "    .dataframe tbody tr th:only-of-type {\n",
       "        vertical-align: middle;\n",
       "    }\n",
       "\n",
       "    .dataframe tbody tr th {\n",
       "        vertical-align: top;\n",
       "    }\n",
       "\n",
       "    .dataframe thead th {\n",
       "        text-align: right;\n",
       "    }\n",
       "</style>\n",
       "<table border=\"1\" class=\"dataframe\">\n",
       "  <thead>\n",
       "    <tr style=\"text-align: right;\">\n",
       "      <th></th>\n",
       "      <th>DP</th>\n",
       "      <th>EP</th>\n",
       "      <th>DP-EP-US10Y</th>\n",
       "      <th>SPY</th>\n",
       "      <th>GMWAX</th>\n",
       "    </tr>\n",
       "  </thead>\n",
       "  <tbody>\n",
       "    <tr>\n",
       "      <th>VaR (0.05)</th>\n",
       "      <td>-0.052335</td>\n",
       "      <td>-0.053892</td>\n",
       "      <td>-0.064082</td>\n",
       "      <td>-0.073525</td>\n",
       "      <td>-0.047061</td>\n",
       "    </tr>\n",
       "  </tbody>\n",
       "</table>\n",
       "</div>"
      ],
      "text/plain": [
       "                  DP        EP  DP-EP-US10Y       SPY     GMWAX\n",
       "VaR (0.05) -0.052335 -0.053892    -0.064082 -0.073525 -0.047061"
      ]
     },
     "execution_count": 44,
     "metadata": {},
     "output_type": "execute_result"
    }
   ],
   "source": [
    "market_summary = performance_summary(gmo_excess_ret.loc[:,['SPY']])\n",
    "gmo_summary = performance_summary(gmo_excess_ret.loc[:,['GMWAX']].dropna())\n",
    "strat_var = pd.concat([strat_summary_df.loc[:,['VaR (0.05)']],\n",
    "                       market_summary.loc[:,['VaR (0.05)']],\n",
    "                       gmo_summary.loc[:,['VaR (0.05)']]])\n",
    "strat_var.T"
   ]
  },
  {
   "cell_type": "markdown",
   "id": "fbee5086",
   "metadata": {},
   "source": [
    "### 3.3.b) The GMO case mentions that stocks under-performed short-term bonds from 2000-2011. Does the dynamic portfolio above under-perform the risk-free rate over this time?"
   ]
  },
  {
   "cell_type": "code",
   "execution_count": 45,
   "id": "eb77066b",
   "metadata": {},
   "outputs": [],
   "source": [
    "def summarize_strategies(strategies, start_date, end_date):\n",
    "\n",
    "    strat_summary = []\n",
    "\n",
    "    for name, data in strategies:\n",
    "        strat = data[start_date:end_date]['Forecasted Return'].to_frame('Forecasted Returns')\n",
    "        perf_summary = performance_summary(strat)  \n",
    "        perf_summary.index = [name]\n",
    "        strat_summary.append(perf_summary)\n",
    "\n",
    "    strat_summary_df = pd.concat(strat_summary)\n",
    "    return strat_summary_df.loc[:, ['Mean', 'Volatility', 'Sharpe Ratio', 'Max Drawdown']]"
   ]
  },
  {
   "cell_type": "code",
   "execution_count": 46,
   "id": "aa353bf0",
   "metadata": {},
   "outputs": [
    {
     "data": {
      "text/html": [
       "<div>\n",
       "<style scoped>\n",
       "    .dataframe tbody tr th:only-of-type {\n",
       "        vertical-align: middle;\n",
       "    }\n",
       "\n",
       "    .dataframe tbody tr th {\n",
       "        vertical-align: top;\n",
       "    }\n",
       "\n",
       "    .dataframe thead th {\n",
       "        text-align: right;\n",
       "    }\n",
       "</style>\n",
       "<table border=\"1\" class=\"dataframe\">\n",
       "  <thead>\n",
       "    <tr style=\"text-align: right;\">\n",
       "      <th></th>\n",
       "      <th>Mean</th>\n",
       "      <th>Volatility</th>\n",
       "      <th>Sharpe Ratio</th>\n",
       "      <th>Max Drawdown</th>\n",
       "    </tr>\n",
       "  </thead>\n",
       "  <tbody>\n",
       "    <tr>\n",
       "      <th>DP</th>\n",
       "      <td>0.039709</td>\n",
       "      <td>0.186016</td>\n",
       "      <td>0.213468</td>\n",
       "      <td>-0.656967</td>\n",
       "    </tr>\n",
       "    <tr>\n",
       "      <th>EP</th>\n",
       "      <td>0.037709</td>\n",
       "      <td>0.134767</td>\n",
       "      <td>0.279805</td>\n",
       "      <td>-0.385317</td>\n",
       "    </tr>\n",
       "    <tr>\n",
       "      <th>DP-EP-US10Y</th>\n",
       "      <td>0.061471</td>\n",
       "      <td>0.158851</td>\n",
       "      <td>0.386972</td>\n",
       "      <td>-0.524606</td>\n",
       "    </tr>\n",
       "    <tr>\n",
       "      <th>Risk Free Rate</th>\n",
       "      <td>0.023062</td>\n",
       "      <td>0.005785</td>\n",
       "      <td>3.986632</td>\n",
       "      <td>0.000000</td>\n",
       "    </tr>\n",
       "  </tbody>\n",
       "</table>\n",
       "</div>"
      ],
      "text/plain": [
       "                    Mean  Volatility  Sharpe Ratio  Max Drawdown\n",
       "DP              0.039709    0.186016      0.213468     -0.656967\n",
       "EP              0.037709    0.134767      0.279805     -0.385317\n",
       "DP-EP-US10Y     0.061471    0.158851      0.386972     -0.524606\n",
       "Risk Free Rate  0.023062    0.005785      3.986632      0.000000"
      ]
     },
     "execution_count": 46,
     "metadata": {},
     "output_type": "execute_result"
    }
   ],
   "source": [
    "strategies = [\n",
    "    ('DP', dp_strat_rtn.dropna()),\n",
    "    ('EP', ep_strat_rtn.dropna()),\n",
    "    ('DP-EP-US10Y', fac3_strat_rtn.dropna()),\n",
    "    ('Risk Free Rate', rf['US3M'].to_frame('Forecasted Return'))\n",
    "]\n",
    "\n",
    "summary_df = summarize_strategies(strategies, '2000', '2011')\n",
    "summary_df"
   ]
  },
  {
   "cell_type": "markdown",
   "id": "929c6fa6",
   "metadata": {},
   "source": [
    "**Answer**: each dynamic portfolio (DP, EP, combined) significantly outperforms risk-free rate over 2000-2011."
   ]
  },
  {
   "cell_type": "markdown",
   "id": "f727e400",
   "metadata": {},
   "source": [
    "### 3.3.c) Based on the regression estimates, in how many periods do we estimate a negative risk premium?"
   ]
  },
  {
   "cell_type": "code",
   "execution_count": 47,
   "id": "8258297b",
   "metadata": {},
   "outputs": [
    {
     "data": {
      "text/html": [
       "<div>\n",
       "<style scoped>\n",
       "    .dataframe tbody tr th:only-of-type {\n",
       "        vertical-align: middle;\n",
       "    }\n",
       "\n",
       "    .dataframe tbody tr th {\n",
       "        vertical-align: top;\n",
       "    }\n",
       "\n",
       "    .dataframe thead th {\n",
       "        text-align: right;\n",
       "    }\n",
       "</style>\n",
       "<table border=\"1\" class=\"dataframe\">\n",
       "  <thead>\n",
       "    <tr style=\"text-align: right;\">\n",
       "      <th></th>\n",
       "      <th>Negative Risk Premium Months</th>\n",
       "      <th>Total Months</th>\n",
       "      <th>Negative Risk Premium Months (%)</th>\n",
       "    </tr>\n",
       "  </thead>\n",
       "  <tbody>\n",
       "    <tr>\n",
       "      <th>DP</th>\n",
       "      <td>139</td>\n",
       "      <td>368</td>\n",
       "      <td>37.77</td>\n",
       "    </tr>\n",
       "    <tr>\n",
       "      <th>EP</th>\n",
       "      <td>139</td>\n",
       "      <td>368</td>\n",
       "      <td>37.77</td>\n",
       "    </tr>\n",
       "    <tr>\n",
       "      <th>DP-EP-US10Y</th>\n",
       "      <td>138</td>\n",
       "      <td>368</td>\n",
       "      <td>37.50</td>\n",
       "    </tr>\n",
       "  </tbody>\n",
       "</table>\n",
       "</div>"
      ],
      "text/plain": [
       "             Negative Risk Premium Months  Total Months  \\\n",
       "DP                                    139           368   \n",
       "EP                                    139           368   \n",
       "DP-EP-US10Y                           138           368   \n",
       "\n",
       "             Negative Risk Premium Months (%)  \n",
       "DP                                      37.77  \n",
       "EP                                      37.77  \n",
       "DP-EP-US10Y                             37.50  "
      ]
     },
     "execution_count": 47,
     "metadata": {},
     "output_type": "execute_result"
    }
   ],
   "source": [
    "neg_risk_premium = strat_summary_df.loc[:,['Negative Risk Premium Months', 'Total Months']]\n",
    "T = neg_risk_premium['Total Months']\n",
    "neg_risk_premium['Negative Risk Premium Months (%)'] = round(neg_risk_premium['Negative Risk Premium Months'] * 100 / T, 2)\n",
    "neg_risk_premium"
   ]
  },
  {
   "cell_type": "markdown",
   "id": "7fd1724a",
   "metadata": {},
   "source": [
    "### 3.3.d) Do you believe the dynamic strategy takes on extra risk?"
   ]
  },
  {
   "cell_type": "markdown",
   "id": "2be5cab6",
   "metadata": {},
   "source": [
    "According to calculations provided above, we can conclude that:\n",
    "\n",
    "1. The volatilities of the dynamic strategies and SPY are very close to each other\n",
    "2. The tail risk statistics (VaR 0.05) of the dynamic strategies are lower than that of SPY\n",
    "3. Other statistics (Max Drawdown) is similar among all the strategies"
   ]
  },
  {
   "cell_type": "code",
   "execution_count": 48,
   "id": "d26e9b4c",
   "metadata": {},
   "outputs": [
    {
     "data": {
      "text/html": [
       "<div>\n",
       "<style scoped>\n",
       "    .dataframe tbody tr th:only-of-type {\n",
       "        vertical-align: middle;\n",
       "    }\n",
       "\n",
       "    .dataframe tbody tr th {\n",
       "        vertical-align: top;\n",
       "    }\n",
       "\n",
       "    .dataframe thead th {\n",
       "        text-align: right;\n",
       "    }\n",
       "</style>\n",
       "<table border=\"1\" class=\"dataframe\">\n",
       "  <thead>\n",
       "    <tr style=\"text-align: right;\">\n",
       "      <th></th>\n",
       "      <th>Mean</th>\n",
       "      <th>Volatility</th>\n",
       "      <th>Sharpe Ratio</th>\n",
       "      <th>VaR (0.05)</th>\n",
       "      <th>Max Drawdown</th>\n",
       "    </tr>\n",
       "  </thead>\n",
       "  <tbody>\n",
       "    <tr>\n",
       "      <th>SPY</th>\n",
       "      <td>0.07946</td>\n",
       "      <td>0.149097</td>\n",
       "      <td>0.532939</td>\n",
       "      <td>-0.073525</td>\n",
       "      <td>-0.560012</td>\n",
       "    </tr>\n",
       "  </tbody>\n",
       "</table>\n",
       "</div>"
      ],
      "text/plain": [
       "        Mean  Volatility  Sharpe Ratio  VaR (0.05)  Max Drawdown\n",
       "SPY  0.07946    0.149097      0.532939   -0.073525     -0.560012"
      ]
     },
     "execution_count": 48,
     "metadata": {},
     "output_type": "execute_result"
    }
   ],
   "source": [
    "market_summary.loc[:,['Mean','Volatility','Sharpe Ratio','VaR (0.05)','Max Drawdown']]"
   ]
  },
  {
   "cell_type": "markdown",
   "id": "9e639598",
   "metadata": {},
   "source": [
    "## 4. Out-of-Sample Forecasting"
   ]
  },
  {
   "cell_type": "markdown",
   "id": "9406a852",
   "metadata": {},
   "source": [
    "This section utilizes data in the file, `gmo_analysis_data.xlsx`.\n",
    "\n",
    "Reconsider the problem above, of estimating (1) for $x$. The reported $R^2$ was the in-sample $R^2$ it examined how well the forecasts fit in the sample from which the parameters were estimated. <br><br>\n",
    "\n",
    "**In particular, focus on the case of using both dividend-price and earnings-price as signals.**\n",
    "\n",
    "Let's consider the out-of-sample r-squared. To do so, we need the following:\n",
    "- Start at $t=60$.\n",
    "- Estmiate (1) only using data through time $t$.\n",
    "- Use the estimated parameters of (1), along with $x_{t+1}$ to calculate the out-of-sample forecast for the following period, $t+1$.\n",
    "\\begin{align}\n",
    "\\hat{r}^{SPY}_{t+1} = \\hat{a}^{SPY,x}_t+(\\beta^{SPY,x})'x_t \n",
    "\\end{align}\n",
    "- Calculate the $t+1$ forecast error,\n",
    "\\begin{align}\n",
    "  e^x_{t+1} = r^{SPY}_{t+1} - \\hat{r}^{SPY}_{t+1}\n",
    "\\end{align}\n",
    "- Move to $t=61$, and loop through the rest of the sample.\n",
    "\n",
    "You now have the time-series of out-of-sample prediction errors, $e^x$.\n",
    "\n",
    "Calculate the time-series of out-of-sample prediction errors $e^0$, which are based on the null forecast:\n",
    "\\begin{align*}\n",
    "\\bar{r}^{SPY}_{t+1} &= \\frac{1}{t}\\sum^{t}_{i=1}r^{SPY}_i \\\\\n",
    "e^0_{t+1} &= r^{SPY}_{t+1} - \\bar{r}^{SPY}_{t+1}\n",
    "\\end{align*}\n"
   ]
  },
  {
   "cell_type": "code",
   "execution_count": 99,
   "id": "c942481e",
   "metadata": {},
   "outputs": [],
   "source": [
    "def calculate_oos_r_squared(data, factors, start_index):\n",
    "\n",
    "    target = data['SPY']\n",
    "\n",
    "    X = sm.add_constant(factors)\n",
    "\n",
    "    forecast_errors = []\n",
    "    null_errors = []\n",
    "\n",
    "    for i in range(start_index, len(data)):\n",
    "        current_X = X.iloc[:i]\n",
    "        current_Y = target.iloc[:i]\n",
    "\n",
    "        model = sm.OLS(current_Y, current_X, missing='drop').fit()\n",
    "        null_forecast = current_Y.mean()\n",
    "        prediction = model.predict(X.iloc[i:i+1])\n",
    "        actual = target.iloc[i]\n",
    "        forecast_errors.append(prediction - actual)\n",
    "        null_errors.append(null_forecast - actual)\n",
    "\n",
    "    RSS = np.sum(np.square(forecast_errors))\n",
    "    TSS = np.sum(np.square(null_errors))\n",
    "\n",
    "    oos_r_squared = 1 - (RSS / TSS)\n",
    "\n",
    "    return oos_r_squared, model"
   ]
  },
  {
   "cell_type": "code",
   "execution_count": 101,
   "id": "0fdd7160",
   "metadata": {},
   "outputs": [],
   "source": [
    "factor = gmo_signals.loc[:,'DP'].shift(1).to_frame()\n",
    "fund_ret = gmo_total_ret.loc[factor.index[0]:,['SPY']]\n",
    "reg_dp = calculate_oos_r_squared(fund_ret,factor,60)\n",
    "OOS_RSquared_dp = reg_dp[0]\n",
    "OOS_r2_dp = pd.DataFrame([[OOS_RSquared_dp]], columns = ['OOS R-Squared'], index = ['DP'])\n",
    "reg_dp_params = reg_dp[1]\n",
    "\n",
    "factor = gmo_signals.loc[:,'EP'].shift(1).to_frame()\n",
    "fund_ret = gmo_total_ret.loc[factor.index[0]:,['SPY']]\n",
    "reg_ep = calculate_oos_r_squared(fund_ret,factor,60)\n",
    "OOS_RSquared_ep = reg_ep[0]\n",
    "OOS_r2_ep = pd.DataFrame([[OOS_RSquared_ep]], columns = ['OOS R-Squared'], index = ['EP'])\n",
    "reg_ep_params = reg_ep[1]\n",
    "\n",
    "factor = gmo_signals.loc[:,['DP','EP']].shift(1)\n",
    "fund_ret = gmo_total_ret.loc[factor.index[0]:,['SPY']]\n",
    "reg_epdp = calculate_oos_r_squared(fund_ret,factor,60)\n",
    "OOS_r2_epdp = reg_epdp[0]\n",
    "OOS_r2_epdp = pd.DataFrame([[OOS_r2_epdp]], columns = ['OOS R-Squared'], index = ['DP-EP'])\n",
    "reg_epdp_params = reg_epdp[1]\n",
    "\n",
    "factor = gmo_signals.loc[:,['DP','EP','US10Y']].shift(1)\n",
    "fund_ret = gmo_total_ret.loc[factor.index[0]:,['SPY']]\n",
    "reg_all = calculate_oos_r_squared(fund_ret,factor,60)\n",
    "OOS_RSquared_all = reg_all[0]\n",
    "OOS_r2_all = pd.DataFrame([[OOS_RSquared_all]], columns = ['OOS R-Squared'], index = ['All'])\n",
    "reg_all_params = reg_all[1]"
   ]
  },
  {
   "cell_type": "markdown",
   "id": "4c540ed5",
   "metadata": {},
   "source": [
    "### 4.1) Report the out-of-sample $R^2$:\n",
    "\\begin{align}\n",
    " R^2_{OOS} \\equiv 1-\\frac{\\sum^T_{i=61}(e^x_i)^2}{\\sum^T_{i=61}(e^0_i)^2} \n",
    "\\end{align}\n",
    "### note that unlike an in-sample r-squared, the out-of-sample r-squared can be anywhere between $(-\\infty,1]$."
   ]
  },
  {
   "cell_type": "code",
   "execution_count": 102,
   "id": "b6f447f1",
   "metadata": {},
   "outputs": [
    {
     "data": {
      "text/html": [
       "<div>\n",
       "<style scoped>\n",
       "    .dataframe tbody tr th:only-of-type {\n",
       "        vertical-align: middle;\n",
       "    }\n",
       "\n",
       "    .dataframe tbody tr th {\n",
       "        vertical-align: top;\n",
       "    }\n",
       "\n",
       "    .dataframe thead th {\n",
       "        text-align: right;\n",
       "    }\n",
       "</style>\n",
       "<table border=\"1\" class=\"dataframe\">\n",
       "  <thead>\n",
       "    <tr style=\"text-align: right;\">\n",
       "      <th></th>\n",
       "      <th>DP</th>\n",
       "      <th>EP</th>\n",
       "      <th>DP-EP</th>\n",
       "      <th>All</th>\n",
       "    </tr>\n",
       "  </thead>\n",
       "  <tbody>\n",
       "    <tr>\n",
       "      <th>OOS R-Squared</th>\n",
       "      <td>-0.002074</td>\n",
       "      <td>-0.006394</td>\n",
       "      <td>-0.017227</td>\n",
       "      <td>-0.030651</td>\n",
       "    </tr>\n",
       "  </tbody>\n",
       "</table>\n",
       "</div>"
      ],
      "text/plain": [
       "                     DP        EP     DP-EP       All\n",
       "OOS R-Squared -0.002074 -0.006394 -0.017227 -0.030651"
      ]
     },
     "execution_count": 102,
     "metadata": {},
     "output_type": "execute_result"
    }
   ],
   "source": [
    "oos_r2_sum = pd.concat([OOS_r2_dp,OOS_r2_ep,OOS_r2_epdp,OOS_r2_all])\n",
    "oos_r2_sum.T"
   ]
  },
  {
   "cell_type": "markdown",
   "id": "963a9544",
   "metadata": {},
   "source": [
    "### Did this forecasting strategy produce a positive OOS r-squared?\n",
    "\n",
    "All strategies produced negative out-of-sample r-squared. It means that the forecasts of all those models are worse than simple mean."
   ]
  },
  {
   "cell_type": "markdown",
   "id": "a2da631c",
   "metadata": {},
   "source": [
    "### 4.2) Re-do problem 3.2 using this OOS forecast. "
   ]
  },
  {
   "cell_type": "code",
   "execution_count": 103,
   "id": "bce3450b",
   "metadata": {},
   "outputs": [],
   "source": [
    "def OOS_strat(df, factors, start, weight):\n",
    "    y = df['SPY']\n",
    "    X = sm.add_constant(factors)\n",
    "    returns = []\n",
    "\n",
    "    for i in range(start, len(df)):\n",
    "        currX = X.iloc[:i]\n",
    "        currY = y.iloc[:i]\n",
    "\n",
    "        reg = sm.OLS(currY, currX, missing='drop').fit()\n",
    "\n",
    "        pred = reg.predict(X.iloc[[i]])[0]\n",
    "        w = pred * weight\n",
    "        returns.append(df.iloc[i]['SPY'] * w)\n",
    "\n",
    "    df_strat = pd.DataFrame(data=returns, index=df.index[start:], columns=['Strat Returns'])\n",
    "    return df_strat"
   ]
  },
  {
   "cell_type": "code",
   "execution_count": 104,
   "id": "95a54076",
   "metadata": {},
   "outputs": [],
   "source": [
    "factor = gmo_signals.loc[:,'EP'].shift(1).to_frame()\n",
    "fund_ret= gmo_total_ret.loc[factor.index[0]:,['SPY']]\n",
    "OOS_EP_predict = OOS_strat(fund_ret,factor, 60, 100).rename(columns={'Strat Returns':'EP_OOS_Returns'})"
   ]
  },
  {
   "cell_type": "code",
   "execution_count": 105,
   "id": "9fd055ee",
   "metadata": {},
   "outputs": [],
   "source": [
    "factor = gmo_signals.loc[:,'DP'].shift(1).to_frame()\n",
    "fund_ret= gmo_total_ret.loc[factor.index[0]:,['SPY']]\n",
    "OOS_DP_predict = OOS_strat(fund_ret,factor, 60, 100).rename(columns={'Strat Returns':'DP_OOS_Returns'})"
   ]
  },
  {
   "cell_type": "code",
   "execution_count": 106,
   "id": "6b329596",
   "metadata": {},
   "outputs": [],
   "source": [
    "factor = gmo_signals.loc[:,['DP','EP']].shift(1)\n",
    "fund_ret= gmo_total_ret.loc[factor.index[0]:,['SPY']]\n",
    "OOS_EPDP_predict = OOS_strat(fund_ret,factor, 60, 100).rename(columns={'Strat Returns':'DP-EP_OOS_Returns'})"
   ]
  },
  {
   "cell_type": "code",
   "execution_count": 107,
   "id": "206f4432",
   "metadata": {},
   "outputs": [],
   "source": [
    "factor = gmo_signals.loc[:,['DP','EP','US10Y']].shift(1)\n",
    "fund_ret= gmo_total_ret.loc[factor.index[0]:,['SPY']]\n",
    "OOS_all_predict = OOS_strat(fund_ret,factor, 60, 100).rename(columns={'Strat Returns':'All_OOS_Returns'})"
   ]
  },
  {
   "cell_type": "code",
   "execution_count": 108,
   "id": "bbab1c91",
   "metadata": {},
   "outputs": [],
   "source": [
    "oos_prediction_sum = pd.concat([OOS_DP_predict.T, OOS_EP_predict.T, OOS_all_predict.T])\n",
    "oos_prediction_sum = oos_prediction_sum.T"
   ]
  },
  {
   "cell_type": "code",
   "execution_count": 109,
   "id": "54dc3d09",
   "metadata": {},
   "outputs": [],
   "source": [
    "def calculate_strategy_performance(OOS_DP_predict, OOS_EP_predict, OOS_all_predict, OOS_EPDP_predict, gmo_excess_ret, rf):\n",
    "\n",
    "    strats = [('DP', OOS_DP_predict.dropna()),\n",
    "              ('EP', OOS_EP_predict.dropna()),\n",
    "              ('DP-EP', OOS_EPDP_predict.dropna()),\n",
    "              ('All', OOS_all_predict.dropna()),\n",
    "              ('SPY', gmo_excess_ret.loc[OOS_all_predict.index[0]:, ['SPY']].rename(columns={'SPY': 'SPY_OOS_Returns'})),\n",
    "              ('US3M', rf['US3M'].to_frame('US3M_OOS_Returns'))]\n",
    "\n",
    "    factor = gmo_excess_ret.loc[:, ['SPY']]\n",
    "    strat_summary = []\n",
    "\n",
    "    for k, strat in strats:\n",
    "        perf_summary = performance_summary(strat)\n",
    "        perf_summary['Negative Risk Premium Months'] = len(strat[strat[k + '_OOS_Returns'] - rf['US3M'] < 0])\n",
    "        perf_summary['Total Months'] = len(strat)\n",
    "        perf_summary.index = [k]\n",
    "        reg = regression_based_performance(factor[strat.index[0]:], strat, 0)\n",
    "        perf_summary['Market Beta'] = reg[0][0]\n",
    "        perf_summary['Market Alpha'] = reg[3]\n",
    "        perf_summary['Market Information Ratio'] = reg[2]\n",
    "        strat_summary.append(perf_summary)\n",
    "\n",
    "    strat_summary_df = pd.concat(strat_summary)\n",
    "    return strat_summary_df.loc[:, ['Mean', 'Volatility', 'Sharpe Ratio', 'VaR (0.05)', 'Max Drawdown', 'Market Beta', 'Market Alpha', 'Market Information Ratio']]\n"
   ]
  },
  {
   "cell_type": "code",
   "execution_count": 110,
   "id": "3cb074b5",
   "metadata": {},
   "outputs": [
    {
     "data": {
      "text/html": [
       "<div>\n",
       "<style scoped>\n",
       "    .dataframe tbody tr th:only-of-type {\n",
       "        vertical-align: middle;\n",
       "    }\n",
       "\n",
       "    .dataframe tbody tr th {\n",
       "        vertical-align: top;\n",
       "    }\n",
       "\n",
       "    .dataframe thead th {\n",
       "        text-align: right;\n",
       "    }\n",
       "</style>\n",
       "<table border=\"1\" class=\"dataframe\">\n",
       "  <thead>\n",
       "    <tr style=\"text-align: right;\">\n",
       "      <th></th>\n",
       "      <th>Mean</th>\n",
       "      <th>Volatility</th>\n",
       "      <th>Sharpe Ratio</th>\n",
       "      <th>VaR (0.05)</th>\n",
       "      <th>Max Drawdown</th>\n",
       "      <th>Market Beta</th>\n",
       "      <th>Market Alpha</th>\n",
       "      <th>Market Information Ratio</th>\n",
       "    </tr>\n",
       "  </thead>\n",
       "  <tbody>\n",
       "    <tr>\n",
       "      <th>DP</th>\n",
       "      <td>0.079626</td>\n",
       "      <td>0.173732</td>\n",
       "      <td>0.458326</td>\n",
       "      <td>-0.071179</td>\n",
       "      <td>-0.551925</td>\n",
       "      <td>0.994490</td>\n",
       "      <td>0.012756</td>\n",
       "      <td>0.163440</td>\n",
       "    </tr>\n",
       "    <tr>\n",
       "      <th>EP</th>\n",
       "      <td>0.082373</td>\n",
       "      <td>0.163741</td>\n",
       "      <td>0.503066</td>\n",
       "      <td>-0.068431</td>\n",
       "      <td>-0.583693</td>\n",
       "      <td>0.549660</td>\n",
       "      <td>0.045420</td>\n",
       "      <td>0.325618</td>\n",
       "    </tr>\n",
       "    <tr>\n",
       "      <th>DP-EP</th>\n",
       "      <td>0.096815</td>\n",
       "      <td>0.226111</td>\n",
       "      <td>0.428174</td>\n",
       "      <td>-0.071698</td>\n",
       "      <td>-0.760910</td>\n",
       "      <td>0.469532</td>\n",
       "      <td>0.065244</td>\n",
       "      <td>0.305011</td>\n",
       "    </tr>\n",
       "    <tr>\n",
       "      <th>All</th>\n",
       "      <td>0.112022</td>\n",
       "      <td>0.247893</td>\n",
       "      <td>0.451897</td>\n",
       "      <td>-0.071882</td>\n",
       "      <td>-0.804959</td>\n",
       "      <td>0.490154</td>\n",
       "      <td>0.079068</td>\n",
       "      <td>0.335312</td>\n",
       "    </tr>\n",
       "    <tr>\n",
       "      <th>SPY</th>\n",
       "      <td>0.067239</td>\n",
       "      <td>0.156070</td>\n",
       "      <td>0.430826</td>\n",
       "      <td>-0.080066</td>\n",
       "      <td>-0.560012</td>\n",
       "      <td>1.000000</td>\n",
       "      <td>0.000000</td>\n",
       "      <td>6.067027</td>\n",
       "    </tr>\n",
       "    <tr>\n",
       "      <th>US3M</th>\n",
       "      <td>0.023803</td>\n",
       "      <td>0.006165</td>\n",
       "      <td>3.860934</td>\n",
       "      <td>0.000020</td>\n",
       "      <td>0.000000</td>\n",
       "      <td>-0.001179</td>\n",
       "      <td>0.023892</td>\n",
       "      <td>3.877706</td>\n",
       "    </tr>\n",
       "  </tbody>\n",
       "</table>\n",
       "</div>"
      ],
      "text/plain": [
       "           Mean  Volatility  Sharpe Ratio  VaR (0.05)  Max Drawdown  \\\n",
       "DP     0.079626    0.173732      0.458326   -0.071179     -0.551925   \n",
       "EP     0.082373    0.163741      0.503066   -0.068431     -0.583693   \n",
       "DP-EP  0.096815    0.226111      0.428174   -0.071698     -0.760910   \n",
       "All    0.112022    0.247893      0.451897   -0.071882     -0.804959   \n",
       "SPY    0.067239    0.156070      0.430826   -0.080066     -0.560012   \n",
       "US3M   0.023803    0.006165      3.860934    0.000020      0.000000   \n",
       "\n",
       "       Market Beta  Market Alpha  Market Information Ratio  \n",
       "DP        0.994490      0.012756                  0.163440  \n",
       "EP        0.549660      0.045420                  0.325618  \n",
       "DP-EP     0.469532      0.065244                  0.305011  \n",
       "All       0.490154      0.079068                  0.335312  \n",
       "SPY       1.000000      0.000000                  6.067027  \n",
       "US3M     -0.001179      0.023892                  3.877706  "
      ]
     },
     "execution_count": 110,
     "metadata": {},
     "output_type": "execute_result"
    }
   ],
   "source": [
    "strat_summary_df = calculate_strategy_performance(OOS_DP_predict, OOS_EP_predict, OOS_all_predict, OOS_EPDP_predict, gmo_excess_ret, rf)\n",
    "strat_summary_df"
   ]
  },
  {
   "cell_type": "markdown",
   "id": "46cde5d1",
   "metadata": {},
   "source": [
    "### <br><br> How much better/worse is the OOS Earnings-Price ratio strategy compared to the in-sample version of 3.2?\n",
    "\n",
    "Answer: compared to in-sample forecasts, OOS Earnings-Price ratio strategy shows lower mean returns and higher volatility, that's why Sharpe ratio becomes almost two times less. Also, tails risks metrics are worse as well. "
   ]
  },
  {
   "cell_type": "markdown",
   "id": "5daf65ae",
   "metadata": {},
   "source": [
    "### 4.3) Re-do problem 3.3 using this OOS forecast. <br><br> Is the point-in-time version of the strategy riskier?"
   ]
  },
  {
   "cell_type": "code",
   "execution_count": 111,
   "id": "f3743b19",
   "metadata": {},
   "outputs": [],
   "source": [
    "def summarize_strategies(strategies, risk_free_rate, excess_returns_factor, start_date, end_date):\n",
    "    strat_summary = pd.DataFrame()\n",
    "\n",
    "    for strat_name, strat_data in strategies:\n",
    "\n",
    "        strat_data = strat_data[start_date:end_date]\n",
    "\n",
    "        strat_return_column = strat_data.columns[0]  \n",
    "        perf_summary = performance_summary(strat_data)\n",
    "\n",
    "        excess_returns = strat_data[strat_return_column] - risk_free_rate[start_date:end_date]['US3M']\n",
    "        perf_summary['Negative Risk Premium Months'] = (excess_returns < 0).sum()\n",
    "        perf_summary['Total Months'] = len(strat_data)\n",
    "        perf_summary.index = [strat_name]\n",
    "\n",
    "        aligned_factor_data = excess_returns_factor.loc[strat_data.index]\n",
    "        aligned_strat_data = strat_data[strat_return_column]\n",
    "\n",
    "        reg = regression_based_performance(aligned_factor_data, aligned_strat_data, 0)\n",
    "\n",
    "        perf_summary['Market Beta'] = reg[0][0]\n",
    "        perf_summary['Market Alpha'] = reg[3]\n",
    "        perf_summary['Market Information Ratio'] = reg[2]\n",
    "\n",
    "        strat_summary = pd.concat([strat_summary, perf_summary])\n",
    "\n",
    "    return strat_summary\n"
   ]
  },
  {
   "cell_type": "code",
   "execution_count": 112,
   "id": "c9b5cfbe",
   "metadata": {},
   "outputs": [
    {
     "data": {
      "text/html": [
       "<div>\n",
       "<style scoped>\n",
       "    .dataframe tbody tr th:only-of-type {\n",
       "        vertical-align: middle;\n",
       "    }\n",
       "\n",
       "    .dataframe tbody tr th {\n",
       "        vertical-align: top;\n",
       "    }\n",
       "\n",
       "    .dataframe thead th {\n",
       "        text-align: right;\n",
       "    }\n",
       "</style>\n",
       "<table border=\"1\" class=\"dataframe\">\n",
       "  <thead>\n",
       "    <tr style=\"text-align: right;\">\n",
       "      <th></th>\n",
       "      <th>Mean</th>\n",
       "      <th>Volatility</th>\n",
       "      <th>Sharpe Ratio</th>\n",
       "      <th>VaR (0.05)</th>\n",
       "      <th>Max Drawdown</th>\n",
       "      <th>Market Beta</th>\n",
       "      <th>Market Alpha</th>\n",
       "      <th>Market Information Ratio</th>\n",
       "    </tr>\n",
       "  </thead>\n",
       "  <tbody>\n",
       "    <tr>\n",
       "      <th>DP</th>\n",
       "      <td>-0.010895</td>\n",
       "      <td>0.163221</td>\n",
       "      <td>-0.066749</td>\n",
       "      <td>-0.094730</td>\n",
       "      <td>-0.551925</td>\n",
       "      <td>0.952248</td>\n",
       "      <td>-0.006228</td>\n",
       "      <td>-0.124928</td>\n",
       "    </tr>\n",
       "    <tr>\n",
       "      <th>EP</th>\n",
       "      <td>0.038768</td>\n",
       "      <td>0.195919</td>\n",
       "      <td>0.197877</td>\n",
       "      <td>-0.085329</td>\n",
       "      <td>-0.583693</td>\n",
       "      <td>0.296065</td>\n",
       "      <td>0.040224</td>\n",
       "      <td>0.211832</td>\n",
       "    </tr>\n",
       "    <tr>\n",
       "      <th>DP-EP-US10Y</th>\n",
       "      <td>0.061471</td>\n",
       "      <td>0.158851</td>\n",
       "      <td>0.386972</td>\n",
       "      <td>-0.077629</td>\n",
       "      <td>-0.524606</td>\n",
       "      <td>0.736802</td>\n",
       "      <td>0.065088</td>\n",
       "      <td>0.627126</td>\n",
       "    </tr>\n",
       "    <tr>\n",
       "      <th>Risk Free Rate</th>\n",
       "      <td>0.023062</td>\n",
       "      <td>0.005785</td>\n",
       "      <td>3.986632</td>\n",
       "      <td>0.000035</td>\n",
       "      <td>0.000000</td>\n",
       "      <td>-0.002853</td>\n",
       "      <td>0.023052</td>\n",
       "      <td>3.997186</td>\n",
       "    </tr>\n",
       "  </tbody>\n",
       "</table>\n",
       "</div>"
      ],
      "text/plain": [
       "                    Mean  Volatility  Sharpe Ratio  VaR (0.05)  Max Drawdown  \\\n",
       "DP             -0.010895    0.163221     -0.066749   -0.094730     -0.551925   \n",
       "EP              0.038768    0.195919      0.197877   -0.085329     -0.583693   \n",
       "DP-EP-US10Y     0.061471    0.158851      0.386972   -0.077629     -0.524606   \n",
       "Risk Free Rate  0.023062    0.005785      3.986632    0.000035      0.000000   \n",
       "\n",
       "                Market Beta  Market Alpha  Market Information Ratio  \n",
       "DP                 0.952248     -0.006228                 -0.124928  \n",
       "EP                 0.296065      0.040224                  0.211832  \n",
       "DP-EP-US10Y        0.736802      0.065088                  0.627126  \n",
       "Risk Free Rate    -0.002853      0.023052                  3.997186  "
      ]
     },
     "execution_count": 112,
     "metadata": {},
     "output_type": "execute_result"
    }
   ],
   "source": [
    "oos_prediction_sum = pd.concat([OOS_DP_predict.T,OOS_EP_predict.T,OOS_all_predict.T])\n",
    "oos_prediction_sum = oos_prediction_sum.T\n",
    "\n",
    "strategies = [('DP', OOS_DP_predict.dropna()),\n",
    "              ('EP', OOS_EP_predict.dropna()),\n",
    "              ('DP-EP-US10Y', fac3_strat_rtn.dropna()),\n",
    "              ('Risk Free Rate', rf['US3M'].to_frame('Forecasted Return'))\n",
    "             ]\n",
    "factor = gmo_excess_ret.loc[:,['SPY']]\n",
    "start_date = '2000'\n",
    "end_date = '2011'\n",
    "\n",
    "strat_summary_df = summarize_strategies(strategies, rf[['US3M']], factor, start_date, end_date)\n",
    "strat_summary_df.loc[:, ['Mean', 'Volatility', 'Sharpe Ratio', 'VaR (0.05)', 'Max Drawdown', 'Market Beta', 'Market Alpha', 'Market Information Ratio']]"
   ]
  },
  {
   "cell_type": "code",
   "execution_count": 113,
   "id": "48708160",
   "metadata": {},
   "outputs": [
    {
     "data": {
      "text/html": [
       "<div>\n",
       "<style scoped>\n",
       "    .dataframe tbody tr th:only-of-type {\n",
       "        vertical-align: middle;\n",
       "    }\n",
       "\n",
       "    .dataframe tbody tr th {\n",
       "        vertical-align: top;\n",
       "    }\n",
       "\n",
       "    .dataframe thead th {\n",
       "        text-align: right;\n",
       "    }\n",
       "</style>\n",
       "<table border=\"1\" class=\"dataframe\">\n",
       "  <thead>\n",
       "    <tr style=\"text-align: right;\">\n",
       "      <th></th>\n",
       "      <th>Negative Risk Premium Months</th>\n",
       "      <th>Total Months</th>\n",
       "      <th>Negative Risk Premium Months (%)</th>\n",
       "    </tr>\n",
       "  </thead>\n",
       "  <tbody>\n",
       "    <tr>\n",
       "      <th>DP</th>\n",
       "      <td>69</td>\n",
       "      <td>144</td>\n",
       "      <td>47.92</td>\n",
       "    </tr>\n",
       "    <tr>\n",
       "      <th>EP</th>\n",
       "      <td>66</td>\n",
       "      <td>144</td>\n",
       "      <td>45.83</td>\n",
       "    </tr>\n",
       "    <tr>\n",
       "      <th>DP-EP-US10Y</th>\n",
       "      <td>62</td>\n",
       "      <td>144</td>\n",
       "      <td>43.06</td>\n",
       "    </tr>\n",
       "    <tr>\n",
       "      <th>Risk Free Rate</th>\n",
       "      <td>0</td>\n",
       "      <td>144</td>\n",
       "      <td>0.00</td>\n",
       "    </tr>\n",
       "  </tbody>\n",
       "</table>\n",
       "</div>"
      ],
      "text/plain": [
       "                Negative Risk Premium Months  Total Months  \\\n",
       "DP                                        69           144   \n",
       "EP                                        66           144   \n",
       "DP-EP-US10Y                               62           144   \n",
       "Risk Free Rate                             0           144   \n",
       "\n",
       "                Negative Risk Premium Months (%)  \n",
       "DP                                         47.92  \n",
       "EP                                         45.83  \n",
       "DP-EP-US10Y                                43.06  \n",
       "Risk Free Rate                              0.00  "
      ]
     },
     "execution_count": 113,
     "metadata": {},
     "output_type": "execute_result"
    }
   ],
   "source": [
    "neg_risk_premium = strat_summary_df.loc[:,['Negative Risk Premium Months','Total Months']]\n",
    "neg_risk_premium['Negative Risk Premium Months (%)'] = round(neg_risk_premium['Negative Risk Premium Months'] *100/ neg_risk_premium['Total Months'], 2)\n",
    "neg_risk_premium"
   ]
  },
  {
   "cell_type": "markdown",
   "id": "0e5c167f",
   "metadata": {},
   "source": [
    "**Answer**: strategy takes extra risk because volatility increases, mean return decreases, and hence Sharpe ratio decreases. In addition, tail risk metrics becomes worse."
   ]
  },
  {
   "cell_type": "code",
   "execution_count": null,
   "id": "b8c40edd",
   "metadata": {},
   "outputs": [],
   "source": []
  }
 ],
 "metadata": {
  "kernelspec": {
   "display_name": "Python 3 (ipykernel)",
   "language": "python",
   "name": "python3"
  },
  "language_info": {
   "codemirror_mode": {
    "name": "ipython",
    "version": 3
   },
   "file_extension": ".py",
   "mimetype": "text/x-python",
   "name": "python",
   "nbconvert_exporter": "python",
   "pygments_lexer": "ipython3",
   "version": "3.10.9"
  }
 },
 "nbformat": 4,
 "nbformat_minor": 5
}
