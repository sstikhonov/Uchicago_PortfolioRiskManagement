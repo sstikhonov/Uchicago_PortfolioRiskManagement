{
 "cells": [
  {
   "cell_type": "code",
   "execution_count": 3,
   "id": "10bb9bc8",
   "metadata": {},
   "outputs": [
    {
     "name": "stdout",
     "output_type": "stream",
     "text": [
      "      Asset Class   Symbol      Expiration\n",
      "0       Commodity    GCF23       June 2023\n",
      "1       Commodity    CLH24     August 2024\n",
      "2       Commodity    ZCU22  September 2022\n",
      "3       Commodity    ZSN23   November 2023\n",
      "4       Commodity    ZWW25    January 2025\n",
      "5       Financial    ESH23      March 2023\n",
      "6       Financial    NQU24       June 2024\n",
      "7       Financial    YMU25  September 2025\n",
      "8       Financial    ZBH26   December 2026\n",
      "9       Financial    ZNU27       June 2027\n",
      "10       Currency    6EH28     August 2028\n",
      "11       Currency    6BU29  September 2029\n",
      "12       Currency    6JU30       June 2030\n",
      "13       Currency    6AU31       July 2031\n",
      "14       Currency    6SH32     August 2032\n",
      "15  Interest Rate    GEU33  September 2033\n",
      "16  Interest Rate    FFM34      March 2034\n",
      "17         Crypto   BTCJ25       June 2025\n",
      "18         Crypto   ETHS26  September 2026\n",
      "19          Index    TFR27       July 2027\n",
      "20          Index   NKDU28    October 2028\n",
      "21          Index  FDAXM29   December 2029\n"
     ]
    }
   ],
   "source": [
    "import pandas as pd\n",
    "from pandas_datareader import data\n",
    "import yfinance as yf\n",
    "yf.pdr_override()\n",
    "\n",
    "# Create a DataFrame\n",
    "data = {\n",
    "    'Asset Class': ['Commodity', 'Commodity', 'Commodity', 'Commodity', 'Commodity',\n",
    "                    'Financial', 'Financial', 'Financial', 'Financial', 'Financial',\n",
    "                    'Currency', 'Currency', 'Currency', 'Currency', 'Currency',\n",
    "                    'Interest Rate', 'Interest Rate',\n",
    "                    'Crypto', 'Crypto',\n",
    "                    'Index', 'Index', 'Index'],\n",
    "    'Symbol': ['GCF23', 'CLH24', 'ZCU22', 'ZSN23', 'ZWW25',\n",
    "               'ESH23', 'NQU24', 'YMU25', 'ZBH26', 'ZNU27',\n",
    "               '6EH28', '6BU29', '6JU30', '6AU31', '6SH32',\n",
    "               'GEU33', 'FFM34',\n",
    "               'BTCJ25', 'ETHS26',\n",
    "               'TFR27', 'NKDU28', 'FDAXM29'],\n",
    "    'Expiration': ['June 2023', 'August 2024', 'September 2022', 'November 2023', 'January 2025',\n",
    "                   'March 2023', 'June 2024', 'September 2025', 'December 2026', 'June 2027',\n",
    "                   'August 2028', 'September 2029', 'June 2030', 'July 2031', 'August 2032',\n",
    "                   'September 2033', 'March 2034',\n",
    "                   'June 2025', 'September 2026',\n",
    "                   'July 2027', 'October 2028', 'December 2029']\n",
    "}\n",
    "\n",
    "\n",
    "\n",
    "df = pd.DataFrame(data)\n",
    "\n",
    "# Display the DataFrame\n",
    "print(df)"
   ]
  },
  {
   "cell_type": "code",
   "execution_count": null,
   "id": "e8b9e21a",
   "metadata": {},
   "outputs": [],
   "source": [
    "def load_financial_data(start_date, end_date,output_file):\n",
    "    try:\n",
    "        df = pd.read_pickle(output_file)\n",
    "        print('File data found...reading GOOG data')\n",
    "    except FileNotFoundError:\n",
    "        print('File not found...downloading the GOOG data')\n",
    "        df = data.DataReader('GOOG', start_date, end_date)\n",
    "        df.to_pickle(output_file)\n",
    "    return df\n",
    "\n",
    "goog_data = load_financial_data(start_date='2001-01-01',\n",
    "                    end_date = '2018-01-01',\n",
    "                    output_file='goog_data.pkl')"
   ]
  }
 ],
 "metadata": {
  "kernelspec": {
   "display_name": "Python 3 (ipykernel)",
   "language": "python",
   "name": "python3"
  },
  "language_info": {
   "codemirror_mode": {
    "name": "ipython",
    "version": 3
   },
   "file_extension": ".py",
   "mimetype": "text/x-python",
   "name": "python",
   "nbconvert_exporter": "python",
   "pygments_lexer": "ipython3",
   "version": "3.10.9"
  }
 },
 "nbformat": 4,
 "nbformat_minor": 5
}
