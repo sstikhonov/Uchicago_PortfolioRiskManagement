{
 "cells": [
  {
   "cell_type": "markdown",
   "id": "c114f5b8",
   "metadata": {},
   "source": [
    "# Homework 6\n",
    "\n",
    "## FINM 36700 - 2023\n",
    "\n",
    "### UChicago Financial Mathematics\n",
    "\n",
    "**Professor**\n",
    "* Mark Hendricks\n",
    "* hendricks@uchicago.edu"
   ]
  },
  {
   "cell_type": "markdown",
   "id": "5bd11479",
   "metadata": {},
   "source": [
    "**Students**\n",
    "\n",
    "Kaleem Bukhari kbukhari@uchicago.edu\n",
    "\n",
    "Aditya Murarka adityam@uchicago.edu\n",
    "\n",
    "Raafay Uqaily raafay@uchicago.edu\n",
    "\n",
    "Shrey Jain shreyjain@uchicago.edu\n",
    "\n",
    "Tikhonov Sergei tikhonov@uchicago.edu\n"
   ]
  },
  {
   "cell_type": "markdown",
   "id": "5c7c3dc5",
   "metadata": {},
   "source": [
    "## Modules"
   ]
  },
  {
   "cell_type": "code",
   "execution_count": 1,
   "id": "a424b50b",
   "metadata": {},
   "outputs": [],
   "source": [
    "import os\n",
    "import pandas as pd\n",
    "from scipy.stats import norm\n",
    "import numpy as np\n",
    "import statsmodels.api as sm\n",
    "import matplotlib.pyplot as plt\n",
    "import seaborn as sns\n",
    "from arch import arch_model\n",
    "from arch.univariate import GARCH\n",
    "import warnings\n",
    "warnings.filterwarnings(\"ignore\")\n",
    "\n",
    "%matplotlib inline\n",
    "\n",
    "import matplotlib.pyplot as plt"
   ]
  },
  {
   "cell_type": "markdown",
   "id": "136fd941",
   "metadata": {},
   "source": [
    "## Helping functions"
   ]
  },
  {
   "cell_type": "code",
   "execution_count": 2,
   "id": "8896d9ed",
   "metadata": {},
   "outputs": [],
   "source": [
    "def performance_summary(return_data, factors, corr):\n",
    "\n",
    "    summary_stats = return_data.mean().to_frame('Mean').apply(lambda x: x*12)\n",
    "    summary_stats['Volatility'] = return_data.std().apply(lambda x: x*np.sqrt(12))\n",
    "    summary_stats['Sharpe Ratio'] = summary_stats['Mean']/summary_stats['Volatility']\n",
    "    summary_stats['Skewness'] = return_data.skew()\n",
    "    \n",
    "    summary_stats['corr to MKT'] = pd.concat([factors, return_data], axis = 1).corr().loc['MKT', corr]\n",
    "    summary_stats['corr to HML'] = pd.concat([factors, return_data], axis = 1).corr().loc['HML', corr]\n",
    "\n",
    "    return summary_stats"
   ]
  },
  {
   "cell_type": "markdown",
   "id": "464332c7",
   "metadata": {},
   "source": [
    "## Data Reading"
   ]
  },
  {
   "cell_type": "code",
   "execution_count": 3,
   "id": "9615a708",
   "metadata": {},
   "outputs": [],
   "source": [
    "factors = pd.read_excel('momentum_data.xlsx', sheet_name = 'factors (excess returns)', index_col = 'Date')\n",
    "momentum = pd.read_excel('momentum_data.xlsx', sheet_name = 'momentum (excess returns)', index_col = 'Date')\n",
    "\n",
    "size_ports = pd.read_excel('momentum_data.xlsx', sheet_name = 'size_sorts (total returns)', index_col = 'Date')\n",
    "deciles = pd.read_excel('momentum_data.xlsx', sheet_name = 'deciles (total returns)', index_col = 'Date')\n",
    "\n",
    "rf = pd.read_excel('momentum_data.xlsx', sheet_name = 'risk-free rate', index_col = 'Date')"
   ]
  },
  {
   "cell_type": "markdown",
   "id": "8980412c",
   "metadata": {},
   "source": [
    "## 2) Investigating Momentum\n",
    "\n",
    "#### In this section, we empirically investigate some concerns regarding AQR’s new momentum product.\n",
    "\n",
    "#### On GitHub, find the data file, “momentum data.xlsx”.\n",
    "\n",
    "\n",
    "- #### The third tab contains the momentum factor as an excess return: $\\tilde{r}^{mom}$\n",
    "\n",
    "\n",
    "- #### The fourth tab contains returns on portfolios corresponding to scored momentum deciles.\n",
    "    - #### $\\tilde{r}^{mom(1)}$ denotes the portfolio of stocks in the lowest momentum decile, the “losers” with the lowest past returns.\n",
    "    - #### $\\tilde{r}^{mom(10)}$ denotes the portfolio of stocks in the highest momentum decile.\n",
    "\n",
    "\n",
    "- #### The fifth tab gives portfolios sorted by momentum and size.\n",
    "    - #### $\\tilde{r}^{momSU}$ denotes the portfolio of small stocks in the top 3 deciles of momentum scores.\n",
    "    - #### $\\tilde{r}^{momBD}$ denotes the portfolio of big-stocks in the bottom 3 deciles of momentum scores.\n",
    "\n",
    "\n",
    "#### Note that the Fama-French momentum return, $\\tilde{r}^{mom:FF}$, given in the third tab, is constructed by FF as,\n",
    "\n",
    "\n",
    "#### $$\\tilde{r}^{mom:FF} = \\frac{1}{2} (\\tilde{r}^{momBU} + \\tilde{r}^{momSU}) − \\frac{1}{2} (\\tilde{r}^{momBD} + \\tilde{r}^{momSD}) $$"
   ]
  },
  {
   "cell_type": "markdown",
   "id": "6149c331",
   "metadata": {},
   "source": [
    "### 2.1.a) Is momentum still profitable?\n",
    "\n",
    "The excess returns of lucrative trading strategies often disappear once the strategy is well-known. The first widely-cited paper on momentum was published in 1993. Have momentum returns or risk changed since then? The AQR case takes place at the end of 2008. Have momentum returns changed in 2009-2021?\n",
    "\n",
    "\n",
    "Investigate by filling out the summary statistics below for the full-sample and three sub-samples.\n",
    "\n",
    "(a) Using the data provided, fill in Table 1 with the appropriate stats for $\\tilde{r}^{mom:FF}$\n",
    "\n",
    "|<caption>Table 1: Momentum performance over time.</caption>|Subsample|mean|vol|Sharpe|Skewness|corr. to $\\tilde{r}^m$|corr. to $\\tilde{r}^v$|\n",
    "|------------------------:|------------------------:|-----------------------:|------------------------:|-----------------------:|------------------------:|-----------------------:|-----------------------:|\n",
    "|1927 - 2022|||||||||\n",
    "|1927 - 1993|||||||||\n",
    "|1994 - 2008|||||||||\n",
    "|2009 - 2022|||||||||\n"
   ]
  },
  {
   "cell_type": "code",
   "execution_count": 4,
   "id": "bc38abe5",
   "metadata": {},
   "outputs": [
    {
     "data": {
      "text/html": [
       "<div>\n",
       "<style scoped>\n",
       "    .dataframe tbody tr th:only-of-type {\n",
       "        vertical-align: middle;\n",
       "    }\n",
       "\n",
       "    .dataframe tbody tr th {\n",
       "        vertical-align: top;\n",
       "    }\n",
       "\n",
       "    .dataframe thead th {\n",
       "        text-align: right;\n",
       "    }\n",
       "</style>\n",
       "<table border=\"1\" class=\"dataframe\">\n",
       "  <thead>\n",
       "    <tr style=\"text-align: right;\">\n",
       "      <th></th>\n",
       "      <th>Mean</th>\n",
       "      <th>Volatility</th>\n",
       "      <th>Sharpe Ratio</th>\n",
       "      <th>Skewness</th>\n",
       "      <th>corr to MKT</th>\n",
       "      <th>corr to HML</th>\n",
       "    </tr>\n",
       "  </thead>\n",
       "  <tbody>\n",
       "    <tr>\n",
       "      <th>1927-2023</th>\n",
       "      <td>0.074791</td>\n",
       "      <td>0.163069</td>\n",
       "      <td>0.458647</td>\n",
       "      <td>-2.992077</td>\n",
       "      <td>-0.346337</td>\n",
       "      <td>-0.404836</td>\n",
       "    </tr>\n",
       "    <tr>\n",
       "      <th>1927-1993</th>\n",
       "      <td>0.090113</td>\n",
       "      <td>0.159991</td>\n",
       "      <td>0.563242</td>\n",
       "      <td>-3.808977</td>\n",
       "      <td>-0.362537</td>\n",
       "      <td>-0.494960</td>\n",
       "    </tr>\n",
       "    <tr>\n",
       "      <th>1994-2008</th>\n",
       "      <td>0.104373</td>\n",
       "      <td>0.175551</td>\n",
       "      <td>0.594548</td>\n",
       "      <td>-0.582038</td>\n",
       "      <td>-0.234519</td>\n",
       "      <td>-0.129402</td>\n",
       "    </tr>\n",
       "    <tr>\n",
       "      <th>2009-2023</th>\n",
       "      <td>-0.026030</td>\n",
       "      <td>0.161623</td>\n",
       "      <td>-0.161052</td>\n",
       "      <td>-2.698287</td>\n",
       "      <td>-0.385511</td>\n",
       "      <td>-0.309380</td>\n",
       "    </tr>\n",
       "  </tbody>\n",
       "</table>\n",
       "</div>"
      ],
      "text/plain": [
       "               Mean  Volatility  Sharpe Ratio  Skewness  corr to MKT  \\\n",
       "1927-2023  0.074791    0.163069      0.458647 -2.992077    -0.346337   \n",
       "1927-1993  0.090113    0.159991      0.563242 -3.808977    -0.362537   \n",
       "1994-2008  0.104373    0.175551      0.594548 -0.582038    -0.234519   \n",
       "2009-2023 -0.026030    0.161623     -0.161052 -2.698287    -0.385511   \n",
       "\n",
       "           corr to HML  \n",
       "1927-2023    -0.404836  \n",
       "1927-1993    -0.494960  \n",
       "1994-2008    -0.129402  \n",
       "2009-2023    -0.309380  "
      ]
     },
     "execution_count": 4,
     "metadata": {},
     "output_type": "execute_result"
    }
   ],
   "source": [
    "time_period = [['1927','2023'], ['1927','1993'], ['1994','2008'], ['2009','2023']]\n",
    "momentum_performance = []\n",
    "\n",
    "for period in time_period:\n",
    "    summary = performance_summary(momentum.loc[period[0]:period[1]], factors.loc[period[0]:period[1]], 'UMD')\n",
    "    summary.index = [f'{period[0]}-{period[1]}']\n",
    "    momentum_performance.append(summary)\n",
    "\n",
    "pd.concat(momentum_performance)"
   ]
  },
  {
   "cell_type": "markdown",
   "id": "b84ea810",
   "metadata": {},
   "source": [
    "### 2.1.b) Has momentum changed much over time, as seen through these subsample statistics?"
   ]
  },
  {
   "cell_type": "markdown",
   "id": "8004859b",
   "metadata": {},
   "source": [
    "**Answer**:\n",
    "\n",
    "Both 1927-1993 and 1994-2008 subsamples show the very same mean, volatility, sharpe ratio and relatively close correlation coefficients. The only big difference in the statistics is skewness, which is 6 time larger in 1927-1993 compared to 1994-2008.\n",
    "\n",
    "However, in 2009-2023 subsample mean becomes negative, and with the relatively similar volatility, sharpe ratio also changed dramatically. Skewness returns to its fullsample levels, while the correlation with HML decreased slightly (ins abs value compared to the whole sample). "
   ]
  },
  {
   "cell_type": "markdown",
   "id": "c5f3ad8c",
   "metadata": {},
   "source": [
    "### 2.1.c) Does this data support AQR's argument that momentum is an important piece of the ideal portfolio? What if mean returns to momentum are in actuality near zero due to transaction costs - would there still be evidence here that momentum is valuable?"
   ]
  },
  {
   "cell_type": "markdown",
   "id": "564229b3",
   "metadata": {},
   "source": [
    "**Answer**:\n",
    "\n",
    "Considering the whole sample data, Momentum is indeed important factor, because it has shown stable positive returns with relatively low correlation to other factors. The only exception is 2009-2022 sample. Such a change of tendency can be explained by the series of economic crises with corresponding economic policies."
   ]
  },
  {
   "cell_type": "markdown",
   "id": "c26f70d6",
   "metadata": {},
   "source": [
    "### 2.2) The case is about whether a long-only implementation of momentum is valuable.\n",
    "\n",
    "#### Construct your own long-only implementation:\n",
    "\n",
    "#### $$\\tilde{r}^{momU:FF} = \\frac{1}{2} (\\tilde{r}^{momBU} + \\tilde{r}^{momSU}) − r^f $$\n",
    "\n",
    "#### Note that this is following the FF approach of treating big and small stocks separately. This would be very similar to a scaled version of,\n",
    "\n",
    "#### $$\\tilde{r}^{momU} = \\frac{1}{3} (\\tilde{r}^{mom(8)} + \\tilde{r}^{mom(9)} + \\tilde{r}^{mom(10)}) − r^f $$\n",
    "\n",
    "\n",
    "#### For the question below, use the FF-style $\\tilde{r}^{momU:FF}_t$\n",
    "\n",
    "\n",
    "### 2.2.a) Fill out Table 2 for the data in the period 1994-2022.\n",
    "\n",
    "\n",
    "|<caption>Table 2: Long-only momentum performance.</caption>|1994-2022|mean|vol|Sharpe|Skewness|corr. to $\\tilde{r}^m$|corr. to $\\tilde{r}^v$|\n",
    "|------------------------:|-----------------------:|------------------------:|-----------------------:|------------------------:|-----------------------:|-----------------------:|-----------------------:|\n",
    "|Long-and-short, $\\tilde{r}^{mom:FF}$|||||||||\n",
    "|Long only, $\\tilde{r}^{momU:FF}$|||||||||\n"
   ]
  },
  {
   "cell_type": "code",
   "execution_count": 5,
   "id": "319c958a",
   "metadata": {},
   "outputs": [
    {
     "data": {
      "text/html": [
       "<div>\n",
       "<style scoped>\n",
       "    .dataframe tbody tr th:only-of-type {\n",
       "        vertical-align: middle;\n",
       "    }\n",
       "\n",
       "    .dataframe tbody tr th {\n",
       "        vertical-align: top;\n",
       "    }\n",
       "\n",
       "    .dataframe thead th {\n",
       "        text-align: right;\n",
       "    }\n",
       "</style>\n",
       "<table border=\"1\" class=\"dataframe\">\n",
       "  <thead>\n",
       "    <tr style=\"text-align: right;\">\n",
       "      <th></th>\n",
       "      <th>Mean</th>\n",
       "      <th>Volatility</th>\n",
       "      <th>Sharpe Ratio</th>\n",
       "      <th>Skewness</th>\n",
       "      <th>corr to MKT</th>\n",
       "      <th>corr to HML</th>\n",
       "    </tr>\n",
       "  </thead>\n",
       "  <tbody>\n",
       "    <tr>\n",
       "      <th>Long-and-short</th>\n",
       "      <td>0.040078</td>\n",
       "      <td>0.169639</td>\n",
       "      <td>0.236256</td>\n",
       "      <td>-1.437502</td>\n",
       "      <td>-0.313551</td>\n",
       "      <td>-0.206171</td>\n",
       "    </tr>\n",
       "    <tr>\n",
       "      <th>Long-only</th>\n",
       "      <td>0.115447</td>\n",
       "      <td>0.178350</td>\n",
       "      <td>0.647306</td>\n",
       "      <td>-0.463528</td>\n",
       "      <td>0.901697</td>\n",
       "      <td>-0.130850</td>\n",
       "    </tr>\n",
       "  </tbody>\n",
       "</table>\n",
       "</div>"
      ],
      "text/plain": [
       "                    Mean  Volatility  Sharpe Ratio  Skewness  corr to MKT  \\\n",
       "Long-and-short  0.040078    0.169639      0.236256 -1.437502    -0.313551   \n",
       "Long-only       0.115447    0.178350      0.647306 -0.463528     0.901697   \n",
       "\n",
       "                corr to HML  \n",
       "Long-and-short    -0.206171  \n",
       "Long-only         -0.130850  "
      ]
     },
     "execution_count": 5,
     "metadata": {},
     "output_type": "execute_result"
    }
   ],
   "source": [
    "long_and_short = (1/2) * (size_ports['BIG HiPRIOR'] + size_ports['SMALL HiPRIOR'])\\\n",
    "                                        - (1/2) * (size_ports['BIG LoPRIOR'] + size_ports['SMALL LoPRIOR'])\n",
    "long_and_short = pd.DataFrame(long_and_short.loc['1994':], columns = ['Long-and-short'])\n",
    "\n",
    "long_only = (1/2) * (size_ports['BIG HiPRIOR'] + size_ports['SMALL HiPRIOR']) - rf['RF']\n",
    "long_only = pd.DataFrame(long_only.loc['1994':], columns = ['Long-only'])\n",
    "\n",
    "construction_summary = []\n",
    "\n",
    "summary_ls = performance_summary(long_and_short, factors, 'Long-and-short')\n",
    "summary_l = performance_summary(long_only, factors, 'Long-only')\n",
    "construction_summary.append(summary_ls)\n",
    "construction_summary.append(summary_l)\n",
    "pd.concat(construction_summary)"
   ]
  },
  {
   "cell_type": "markdown",
   "id": "25f56086",
   "metadata": {},
   "source": [
    "### 2.2.b) Is long-only momentum as attractive as long-short momentum with respect to mean, volatility, and Sharpe Ratio?"
   ]
  },
  {
   "cell_type": "markdown",
   "id": "3a5fcaf9",
   "metadata": {},
   "source": [
    "**Answer**:\n",
    "\n",
    "1. Mean returns sufficiently lower in Long-and-short strategy than in Long-only.\n",
    "2. Adjusted to volatility returns are 3 times higher for Long-only strategy\n",
    "\n",
    "As a result, Long-only strategy looks much more attractive than long-and-short strategy. However, it's worth mentioning that long-only strategy has a substantial correlation with market factor. Taking into account this fact, long-only strategy is not that useful."
   ]
  },
  {
   "cell_type": "markdown",
   "id": "efb34f3d",
   "metadata": {},
   "source": [
    "### 2.2.c) Is long-only momentum as diversifying as long-short momentum with respect to market and value premia?"
   ]
  },
  {
   "cell_type": "markdown",
   "id": "f834ed4d",
   "metadata": {},
   "source": [
    "**Answer**:\n",
    "\n",
    "1. Correlation: since the long-only momentum has high correlation with market factor, it is considered to be not diversifying\n",
    "\n",
    "2. Volatility: long-and-short momentum has much lower volatility than long-only, so again long-only is not diversifying "
   ]
  },
  {
   "cell_type": "markdown",
   "id": "ac0ed99c",
   "metadata": {},
   "source": [
    "### 2.2.d) Show a plot of the cumulative product of 1 + $\\tilde{r}^{mom:FF}$ and 1 + $\\tilde{r}^{momU:FF}$  over the 1994-2022 subsample."
   ]
  },
  {
   "cell_type": "code",
   "execution_count": 6,
   "id": "e6a34eea",
   "metadata": {},
   "outputs": [
    {
     "data": {
      "image/png": "[encoded data removed]",
      "text/plain": [
       "<Figure size 1000x600 with 1 Axes>"
      ]
     },
     "metadata": {},
     "output_type": "display_data"
    }
   ],
   "source": [
    "graph = pd.concat([long_and_short, long_only], axis = 1)\n",
    "(1 + graph).cumprod().plot(figsize=(10, 6))\n",
    "plt.grid(visible=1, linestyle='--')\n",
    "plt.ylabel('Cumulative returns');"
   ]
  },
  {
   "cell_type": "markdown",
   "id": "af947356",
   "metadata": {},
   "source": [
    "### 3) Is momentum just data mining, or is it a robust strategy?\n",
    "\n",
    "#### Assess how sensitive the threshold for the “winners” and “losers” is in the results. Specifically, we compare three constructions:\n",
    "\n",
    "\n",
    "- #### long the top 1 decile and short the bottom 1 deciles:\n",
    "\n",
    "#### $$ \\tilde{r}^{momD1} = r^{mom(10)} - r^{mom(1)}$$\n",
    "\n",
    "\n",
    "- #### long the top 3 deciles and short the bottom 3 deciles:\n",
    "\n",
    "\n",
    "#### $$ \\tilde{r}^{momD3} = \\frac{1}{3}(r^{mom(8)} + r^{mom(9)} + r^{mom(10)}) - \\frac{1}{3} (r^{mom(3)} + r^{mom(2)} + r^{mom(1)}) $$\n",
    "\n",
    "#### $$ \\tilde{r}^{momD3} = \\frac{1}{3}\\sum_{k = 8}^{10} r^{mom(k)} - \\frac{1}{3}\\sum_{k = 1}^{3} r^{mom(k)} $$\n",
    "\n",
    "\n",
    "- #### long the top 5 deciles and short the bottom 5 decile:\n",
    "\n",
    "#### $$ \\tilde{r}^{momD5} = \\frac{1}{5}\\sum_{k = 6}^{10} r^{mom(k)} - \\frac{1}{5}\\sum_{k = 1}^{5} r^{mom(k)} $$"
   ]
  },
  {
   "cell_type": "code",
   "execution_count": 7,
   "id": "cd1e99d4",
   "metadata": {},
   "outputs": [],
   "source": [
    "d1 = deciles['Hi PRIOR'] - deciles['Lo PRIOR']\n",
    "d3 = (1/3) * ((deciles['PRIOR 8'] + deciles['PRIOR 9'] + deciles['Hi PRIOR'])\\\n",
    "              - (deciles['Lo PRIOR'] + deciles['PRIOR 2'] + deciles['PRIOR 3']))\n",
    "d5 = (1/5)*((deciles['PRIOR 6'] + deciles['PRIOR 7'] + deciles['PRIOR 8'] + deciles['PRIOR 9'] + deciles['Hi PRIOR'])\\\n",
    "    - (deciles['Lo PRIOR']+deciles['PRIOR 2']+deciles['PRIOR 3']+deciles['PRIOR 4']+deciles['PRIOR 5']))\n",
    "\n",
    "d1 = pd.DataFrame(d1.loc['1994':], columns = ['D1'])\n",
    "d3 = pd.DataFrame(d3.loc['1994':], columns = ['D3'])\n",
    "d5 = pd.DataFrame(d5.loc['1994':], columns = ['D5'])"
   ]
  },
  {
   "cell_type": "markdown",
   "id": "0d00e843",
   "metadata": {},
   "source": [
    "### 2.3.a) Compare all three constructions, (in the full-sample period,) by filling out the stats in the table below for the period 1994-2022.\n",
    "\n",
    "|<caption>Table 3: Robustness of momentum construction.</caption>|1994-2022|mean|vol|Sharpe|Skewness|corr. to $\\tilde{r}^m$|corr. to $\\tilde{r}^v$|\n",
    "|------------------------:|-----------------------:|------------------------:|-----------------------:|------------------------:|-----------------------:|-----------------------:|-----------------------:|\n",
    "|$\\tilde{r}^{momD1}$|||||||||\n",
    "|$\\tilde{r}^{momD3}$|||||||||\n",
    "|$\\tilde{r}^{momD5}$|||||||||"
   ]
  },
  {
   "cell_type": "code",
   "execution_count": 8,
   "id": "1ffe3df3",
   "metadata": {},
   "outputs": [
    {
     "data": {
      "text/html": [
       "<div>\n",
       "<style scoped>\n",
       "    .dataframe tbody tr th:only-of-type {\n",
       "        vertical-align: middle;\n",
       "    }\n",
       "\n",
       "    .dataframe tbody tr th {\n",
       "        vertical-align: top;\n",
       "    }\n",
       "\n",
       "    .dataframe thead th {\n",
       "        text-align: right;\n",
       "    }\n",
       "</style>\n",
       "<table border=\"1\" class=\"dataframe\">\n",
       "  <thead>\n",
       "    <tr style=\"text-align: right;\">\n",
       "      <th></th>\n",
       "      <th>Mean</th>\n",
       "      <th>Volatility</th>\n",
       "      <th>Sharpe Ratio</th>\n",
       "      <th>Skewness</th>\n",
       "      <th>corr to MKT</th>\n",
       "      <th>corr to HML</th>\n",
       "    </tr>\n",
       "  </thead>\n",
       "  <tbody>\n",
       "    <tr>\n",
       "      <th>D1</th>\n",
       "      <td>0.074873</td>\n",
       "      <td>0.298583</td>\n",
       "      <td>0.250762</td>\n",
       "      <td>-1.307240</td>\n",
       "      <td>-0.329943</td>\n",
       "      <td>-0.214096</td>\n",
       "    </tr>\n",
       "    <tr>\n",
       "      <th>D3</th>\n",
       "      <td>0.024814</td>\n",
       "      <td>0.194199</td>\n",
       "      <td>0.127774</td>\n",
       "      <td>-1.350529</td>\n",
       "      <td>-0.370049</td>\n",
       "      <td>-0.194311</td>\n",
       "    </tr>\n",
       "    <tr>\n",
       "      <th>D5</th>\n",
       "      <td>0.013016</td>\n",
       "      <td>0.134476</td>\n",
       "      <td>0.096792</td>\n",
       "      <td>-1.428013</td>\n",
       "      <td>-0.359342</td>\n",
       "      <td>-0.194664</td>\n",
       "    </tr>\n",
       "  </tbody>\n",
       "</table>\n",
       "</div>"
      ],
      "text/plain": [
       "        Mean  Volatility  Sharpe Ratio  Skewness  corr to MKT  corr to HML\n",
       "D1  0.074873    0.298583      0.250762 -1.307240    -0.329943    -0.214096\n",
       "D3  0.024814    0.194199      0.127774 -1.350529    -0.370049    -0.194311\n",
       "D5  0.013016    0.134476      0.096792 -1.428013    -0.359342    -0.194664"
      ]
     },
     "execution_count": 8,
     "metadata": {},
     "output_type": "execute_result"
    }
   ],
   "source": [
    "construction_summary = []\n",
    "\n",
    "summary_d1 = performance_summary(d1, factors, 'D1')\n",
    "summary_d3 = performance_summary(d3, factors, 'D3')\n",
    "summary_d5 = performance_summary(d5, factors, 'D5')\n",
    "construction_summary.append(summary_d1)\n",
    "construction_summary.append(summary_d3)\n",
    "construction_summary.append(summary_d5)\n",
    "pd.concat(construction_summary)"
   ]
  },
  {
   "cell_type": "markdown",
   "id": "cc2b54f4",
   "metadata": {},
   "source": [
    "### 2.3.b) Do the tradeoffs between the 1-decile, 3-decile, and 5-decile constructions line up with the theoretical tradeoffs we discussed in the lecture?"
   ]
  },
  {
   "cell_type": "markdown",
   "id": "3dec029d",
   "metadata": {},
   "source": [
    "**Answer**:\n",
    "\n",
    "Tradeoffs between deciles are in line with what we discussed in the lecture:\n",
    "\n",
    "1-decile implies the highest mean returns but also represents the highest volatility, while 5-decile shows the lowest mean returns and volatility. As a result, the more deciles we take into account, the less both mean returns and volatility are. By choosing the cutoff, one can find the optimal mean and volatility statistics."
   ]
  },
  {
   "cell_type": "markdown",
   "id": "2949e00f",
   "metadata": {},
   "source": [
    "### 2.3.c) Should AQR's retail product consider using a 1-decile or 5-decile construction?"
   ]
  },
  {
   "cell_type": "markdown",
   "id": "32284c63",
   "metadata": {},
   "source": [
    "**Answer**:\n",
    "\n",
    "According to Sharpe Ratio, AQR should choose 1-decile because it represents the highest mean adjusted returns."
   ]
  },
  {
   "cell_type": "markdown",
   "id": "6e54f30d",
   "metadata": {},
   "source": [
    "### 2.3.d) Does $\\tilde{r}^{momD3}$ have similar stats to the Fama-French construction in (1). Recall that construction is also a 3-decile, long-short construction, but it is segmented for small and large stocks. Compare the middle row of Table 3 with the top row of Table 2."
   ]
  },
  {
   "cell_type": "code",
   "execution_count": 9,
   "id": "e08e8d28",
   "metadata": {},
   "outputs": [
    {
     "data": {
      "text/html": [
       "<div>\n",
       "<style scoped>\n",
       "    .dataframe tbody tr th:only-of-type {\n",
       "        vertical-align: middle;\n",
       "    }\n",
       "\n",
       "    .dataframe tbody tr th {\n",
       "        vertical-align: top;\n",
       "    }\n",
       "\n",
       "    .dataframe thead th {\n",
       "        text-align: right;\n",
       "    }\n",
       "</style>\n",
       "<table border=\"1\" class=\"dataframe\">\n",
       "  <thead>\n",
       "    <tr style=\"text-align: right;\">\n",
       "      <th></th>\n",
       "      <th>Mean</th>\n",
       "      <th>Volatility</th>\n",
       "      <th>Sharpe Ratio</th>\n",
       "      <th>Skewness</th>\n",
       "      <th>corr to MKT</th>\n",
       "      <th>corr to HML</th>\n",
       "    </tr>\n",
       "  </thead>\n",
       "  <tbody>\n",
       "    <tr>\n",
       "      <th>Long-and-short</th>\n",
       "      <td>0.040078</td>\n",
       "      <td>0.169639</td>\n",
       "      <td>0.236256</td>\n",
       "      <td>-1.437502</td>\n",
       "      <td>-0.313551</td>\n",
       "      <td>-0.206171</td>\n",
       "    </tr>\n",
       "    <tr>\n",
       "      <th>D3</th>\n",
       "      <td>0.024814</td>\n",
       "      <td>0.194199</td>\n",
       "      <td>0.127774</td>\n",
       "      <td>-1.350529</td>\n",
       "      <td>-0.370049</td>\n",
       "      <td>-0.194311</td>\n",
       "    </tr>\n",
       "  </tbody>\n",
       "</table>\n",
       "</div>"
      ],
      "text/plain": [
       "                    Mean  Volatility  Sharpe Ratio  Skewness  corr to MKT  \\\n",
       "Long-and-short  0.040078    0.169639      0.236256 -1.437502    -0.313551   \n",
       "D3              0.024814    0.194199      0.127774 -1.350529    -0.370049   \n",
       "\n",
       "                corr to HML  \n",
       "Long-and-short    -0.206171  \n",
       "D3                -0.194311  "
      ]
     },
     "execution_count": 9,
     "metadata": {},
     "output_type": "execute_result"
    }
   ],
   "source": [
    "pd.concat([summary_ls, summary_d3])"
   ]
  },
  {
   "cell_type": "markdown",
   "id": "d2cecc30",
   "metadata": {},
   "source": [
    "**Answer**:\n",
    "\n",
    "Yes, both construction methods show quite similar statistics with the size buckets long-short strategy performing  better in terms of mean adjusted returns "
   ]
  },
  {
   "cell_type": "markdown",
   "id": "3650482d",
   "metadata": {},
   "source": [
    "### 4. Does implementing momentum require trading lots of small stocks-- thus causing even larger trading costs?\n",
    "\n",
    "#### For regulatory and liquidity reasons, AQR is particularly interested in using larger stocks for their momentum baskets. (Though they will launch one product that focuses on medium-sized stocks.)\n",
    "#### Use the data provided on both small-stock “winners”, $r^{momSU}$, and small-stock “losers”, $r^{momSD}$, to construct a small-stock momentum portfolio,\n",
    "\n",
    "#### $$ r^{momS}_t = r^{momSU}_t - r^{momSD}_t $$\n",
    "\n",
    "#### Similarly, use the data provided to construct a big-stock momentum portfolio,\n",
    "\n",
    "#### $$ r^{momB}_t = r^{momBU}_t − r^{momBD}_t $$"
   ]
  },
  {
   "cell_type": "markdown",
   "id": "e806bf46",
   "metadata": {},
   "source": [
    "### 2.4.a) Fill out Table 4 over the sample 1994-2022.\n",
    "\n",
    "\n",
    "|<caption>Table 4: Momentum of small and big stocks.</caption>|1994-2022|mean|vol|Sharpe|Skewness|corr. to $\\tilde{r}^m$|corr. to $\\tilde{r}^v$|\n",
    "|------------------------:|-----------------------:|------------------------:|-----------------------:|------------------------:|-----------------------:|-----------------------:|-----------------------:|\n",
    "|All stocks, $\\tilde{r}^{mom:FF}_t$|||||||||\n",
    "|Small stocks, $\\tilde{r}^{momS}_t$|||||||||\n",
    "|Large stocks, $\\tilde{r}^{momB}_t$|||||||||\n",
    "\n"
   ]
  },
  {
   "cell_type": "code",
   "execution_count": 10,
   "id": "6161acdd",
   "metadata": {},
   "outputs": [
    {
     "data": {
      "text/html": [
       "<div>\n",
       "<style scoped>\n",
       "    .dataframe tbody tr th:only-of-type {\n",
       "        vertical-align: middle;\n",
       "    }\n",
       "\n",
       "    .dataframe tbody tr th {\n",
       "        vertical-align: top;\n",
       "    }\n",
       "\n",
       "    .dataframe thead th {\n",
       "        text-align: right;\n",
       "    }\n",
       "</style>\n",
       "<table border=\"1\" class=\"dataframe\">\n",
       "  <thead>\n",
       "    <tr style=\"text-align: right;\">\n",
       "      <th></th>\n",
       "      <th>Mean</th>\n",
       "      <th>Volatility</th>\n",
       "      <th>Sharpe Ratio</th>\n",
       "      <th>Skewness</th>\n",
       "      <th>corr to MKT</th>\n",
       "      <th>corr to HML</th>\n",
       "    </tr>\n",
       "  </thead>\n",
       "  <tbody>\n",
       "    <tr>\n",
       "      <th>Long-and-short</th>\n",
       "      <td>0.040078</td>\n",
       "      <td>0.169639</td>\n",
       "      <td>0.236256</td>\n",
       "      <td>-1.437502</td>\n",
       "      <td>-0.313551</td>\n",
       "      <td>-0.206171</td>\n",
       "    </tr>\n",
       "    <tr>\n",
       "      <th>Small stocks</th>\n",
       "      <td>0.059358</td>\n",
       "      <td>0.171924</td>\n",
       "      <td>0.345256</td>\n",
       "      <td>-1.744008</td>\n",
       "      <td>-0.309153</td>\n",
       "      <td>-0.146270</td>\n",
       "    </tr>\n",
       "    <tr>\n",
       "      <th>Large stocks</th>\n",
       "      <td>0.020799</td>\n",
       "      <td>0.183927</td>\n",
       "      <td>0.113082</td>\n",
       "      <td>-0.877121</td>\n",
       "      <td>-0.289410</td>\n",
       "      <td>-0.243587</td>\n",
       "    </tr>\n",
       "  </tbody>\n",
       "</table>\n",
       "</div>"
      ],
      "text/plain": [
       "                    Mean  Volatility  Sharpe Ratio  Skewness  corr to MKT  \\\n",
       "Long-and-short  0.040078    0.169639      0.236256 -1.437502    -0.313551   \n",
       "Small stocks    0.059358    0.171924      0.345256 -1.744008    -0.309153   \n",
       "Large stocks    0.020799    0.183927      0.113082 -0.877121    -0.289410   \n",
       "\n",
       "                corr to HML  \n",
       "Long-and-short    -0.206171  \n",
       "Small stocks      -0.146270  \n",
       "Large stocks      -0.243587  "
      ]
     },
     "execution_count": 10,
     "metadata": {},
     "output_type": "execute_result"
    }
   ],
   "source": [
    "summary_stats = []\n",
    " \n",
    "momS = size_ports['SMALL HiPRIOR'] - size_ports['SMALL LoPRIOR']\n",
    "momB = size_ports['BIG HiPRIOR'] - size_ports['BIG LoPRIOR']\n",
    "momS = pd.DataFrame(momS.loc['1994':], columns = ['Small stocks'])\n",
    "momB = pd.DataFrame(momB.loc['1994':], columns = ['Large stocks'])\n",
    "\n",
    "summary_1 = performance_summary(long_and_short, factors, 'Long-and-short')\n",
    "summary_2 = performance_summary(momS, factors, 'Small stocks')\n",
    "summary_3 = performance_summary(momB, factors, 'Large stocks')\n",
    "\n",
    "summary_stats.append(summary_1)\n",
    "summary_stats.append(summary_2)\n",
    "summary_stats.append(summary_3)\n",
    "\n",
    "pd.concat(summary_stats)"
   ]
  },
  {
   "cell_type": "markdown",
   "id": "748f2251",
   "metadata": {},
   "source": [
    "### 2.4.b) Is the attractiveness of the momentum strategy mostly driven by the small stocks? That is, does a momentum strategy in large stocks still deliver excess returns at comparable risk?"
   ]
  },
  {
   "cell_type": "markdown",
   "id": "bd7de21e",
   "metadata": {},
   "source": [
    "**Answer**:\n",
    "\n",
    "To determine whether a momentum strategy in large stocks still delivers excess returns at comparable risk, one can check sharpe ratios of both small and large stocks.\n",
    "\n",
    "It turns out that sharpe ratio of small stocks is sufficiently higher than that of large stocks and thus momentum with small stocks looks more attractive. On the other hand, problems with relative illiquidity, transaction costs, and other difficulties in trading should be taken into account."
   ]
  },
  {
   "cell_type": "markdown",
   "id": "f673a3b8",
   "metadata": {},
   "source": [
    "## 2.5) In conclusion, what is your assessment of the AQR retail product? Is it capturing the important features of the Fama-French construction of momentum? Would you suggest any modifications?"
   ]
  },
  {
   "cell_type": "markdown",
   "id": "e990e1f0",
   "metadata": {},
   "source": [
    "**Answer**:\n",
    "\n",
    "AQR construction method has shown high performance.\n",
    "\n",
    "It indeed captures the most important features of the Fama-French construcion. As we've seen in the part 3, most calculated statistics are close to each other, specifically skewness and correlations. Though sharpe ratio of AQR construction method demonstrates lower performance than that of Fama French construction of momentum.\n",
    "\n",
    "Considering suggestions, AQR retail product (long only) has really high (about 0.9) correlation with market factor. To increase efficiency of newly constructed product, AQR needs to decrease this correlation coefficient."
   ]
  },
  {
   "cell_type": "code",
   "execution_count": null,
   "id": "b4995d40",
   "metadata": {},
   "outputs": [],
   "source": []
  }
 ],
 "metadata": {
  "kernelspec": {
   "display_name": "Python 3 (ipykernel)",
   "language": "python",
   "name": "python3"
  },
  "language_info": {
   "codemirror_mode": {
    "name": "ipython",
    "version": 3
   },
   "file_extension": ".py",
   "mimetype": "text/x-python",
   "name": "python",
   "nbconvert_exporter": "python",
   "pygments_lexer": "ipython3",
   "version": "3.10.9"
  }
 },
 "nbformat": 4,
 "nbformat_minor": 5
}
