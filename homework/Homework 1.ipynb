{
 "cells": [
  {
   "cell_type": "markdown",
   "id": "a97c4251",
   "metadata": {},
   "source": [
    "# Homework 1\n",
    "\n",
    "## FINM 36700 - 2023\n",
    "\n",
    "### UChicago Financial Mathematics\n",
    "\n",
    "* Mark Hendricks\n",
    "* hendricks@uchicago.edu\n",
    "\n",
    "## HBS Case\n",
    "\n",
    "### *The Harvard Management Company and Inflation-Indexed Bonds*"
   ]
  },
  {
   "cell_type": "markdown",
   "id": "cef92ba4",
   "metadata": {},
   "source": [
    "### Notation\n",
    "(Hidden LaTeX commands)\n",
    "\n",
    "$$\\newcommand{\\mux}{\\tilde{\\boldsymbol{\\mu}}}$$\n",
    "$$\\newcommand{\\wtan}{\\boldsymbol{\\text{w}}^{\\text{tan}}}$$\n",
    "$$\\newcommand{\\wtarg}{\\boldsymbol{\\text{w}}^{\\text{port}}}$$\n",
    "$$\\newcommand{\\mutarg}{\\tilde{\\boldsymbol{\\mu}}^{\\text{port}}}$$\n",
    "$$\\newcommand{\\wEW}{\\boldsymbol{\\text{w}}^{\\text{EW}}}$$\n",
    "$$\\newcommand{\\wRP}{\\boldsymbol{\\text{w}}^{\\text{RP}}}$$\n",
    "$$\\newcommand{\\wREG}{\\boldsymbol{\\text{w}}^{\\text{REG}}}$$"
   ]
  },
  {
   "cell_type": "markdown",
   "id": "cbb624b4",
   "metadata": {},
   "source": [
    "***"
   ]
  },
  {
   "cell_type": "markdown",
   "id": "31dfdadc",
   "metadata": {},
   "source": [
    "# 1. HMC's Approach\n",
    "\n",
    "**Section 1 is not graded**, and you do not need to submit your answers. But you are encouraged to think about them, and we will discuss them."
   ]
  },
  {
   "cell_type": "markdown",
   "id": "77eafffb",
   "metadata": {},
   "source": [
    "### 1. \n",
    "There are thousands of individual risky assets in which HMC can invest.  Explain why MV optimization across 1,000 securities is infeasible.\n",
    "\n",
    "### 2.\n",
    "Rather than optimize across all securities directly, HMC runs a two-stage optimization.\n",
    "1. They build asset class portfolios with each one optimized over the securities of the specific asset class.  \n",
    "2. HMC combines the asset-class portfolios into one total optimized portfolio.\n",
    "\n",
    "In order for the two-stage optimization to be a good approximation of the full MV-optimization on all assets, what must be true of the partition of securities into asset classes?\n",
    "\n",
    "### 3.\n",
    "Should TIPS form a new asset class or be grouped into one of the other 11 classes?\n",
    "\n",
    "### 4. \n",
    "Why does HMC focus on real returns when analyzing its portfolio allocation? Is this just a matter of scaling, or does using real returns versus nominal returns potentially change the MV solution?\n",
    "\n",
    "### 5.\n",
    "The case discusses the fact that Harvard places bounds on the portfolio allocation rather than implementing whatever numbers come out of the MV optimization problem.\n",
    "\n",
    "How might we adjust the stated optimization problem in the lecture notes to reflect the extra constraints Harvard is using in their bounded solutions given in Exhibits 5 and 6. Just consider how we might rewrite the optimization; don’t try to solve this extra-constrained optimization.\n",
    "\n",
    "### 6. \n",
    "Exhibits 5 shows zero allocation to domestic equities and domestic bonds across the entire computed range of targeted returns, (5.75% to 7.25%). Conceptually, why is the constraint binding in all these cases? What would the unconstrained portfolio want to do with those allocations and why?\n",
    "\n",
    "### 7.\n",
    "Exhibit 6 changes the constraints, (tightening them in most cases.) How much deterioration do we see in the mean-variance tradeoff that Harvard achieved?"
   ]
  },
  {
   "cell_type": "markdown",
   "id": "f7d7adf1",
   "metadata": {},
   "source": [
    "***"
   ]
  },
  {
   "cell_type": "markdown",
   "id": "d1614003",
   "metadata": {},
   "source": [
    "# 2 Mean-Variance Optimization\n",
    "\n",
    "<i>This section is graded for a good-faith effort by your group. Submit your write-up- along with your supporting code. \n",
    "    \n",
    "    Don't just submit code or messy numbers; submit a coherent write-up based on your work.</i>\n",
    "\n",
    "### Data\n",
    "You will need the file in the github repo, `data/multi_asset_etf_data.xlsx`.\n",
    "- The time-series data gives monthly returns for the 11 asset classes and a short-term Treasury-bill fund return, (\"SHV\",) which we consider as the risk-free rate.\n",
    "- The data is provided in total returns, (in which case you should ignore the SHV column,) as well as excess returns, (where SHV has been subtracted from the other columns.)\n",
    "- These are nominal returns-they are not adjusted for inflation, and in our calculations we are not making any adjustment for inflation.\n",
    "- The exhibit data that comes via Harvard with the case is unnecessary for our analysis.\n",
    "\n",
    "### Model\n",
    "We are going to analyze the problem in terms of **excess** returns.\n",
    "- Thus, you will focus on the `Excess Returns` section of the lecture notes, especially the formulas on slide 50.\n",
    "- Be sure to use the`excess returns` tab of the data.\n",
    "\n",
    "### Format\n",
    "In the questions below, **annualize the statistics** you report.\n",
    "- Annualize the mean of monthly returns with a scaling of 12.\n",
    "- Annualize the volatility of monthly returns with a scaling of $\\sqrt{12}$\n",
    "- The Sharpe Ratio is the mean return divided by the volatility of returns. Accordingly, we can annualize the Sharpe Ratio with a scaling of $\\sqrt{12}$\n",
    "- Note that we are not scaling the raw timeseries data, just the statistics computed from it (mean, vol, Sharpe). "
   ]
  },
  {
   "cell_type": "code",
   "execution_count": 1,
   "id": "786c2368",
   "metadata": {},
   "outputs": [],
   "source": [
    "import numpy as np\n",
    "import pandas as pd\n",
    "import seaborn as sns"
   ]
  },
  {
   "cell_type": "markdown",
   "id": "afa47172",
   "metadata": {},
   "source": [
    "### Footnotes\n",
    "\n",
    "#### Data File\n",
    "* The case does not give time-series data, so this data has been compiled outside of the case, and it intends to represent the main asset classes under consideration via various ETFs. For details on the specific securities/indexes, check the “Info” tab of the data.\n",
    "\n",
    "#### Risk-free rate\n",
    "* In the lecture-note we considered a constant risk-free rate. It is okay that our risk-free rate changes over time, but the assumption is that investors know it’s value one-period ahead of time. Thus, at any given point in time, it is a risk-free rate for the next period. (This is often discussed as the \"bank account\" or \"money market account\" in other settings."
   ]
  },
  {
   "cell_type": "markdown",
   "id": "d3962427",
   "metadata": {},
   "source": [
    "## 1. Summary Statistics\n",
    "* Calculate and display the mean and volatility of each asset’s excess return. (Recall we use volatility to refer to standard deviation.)\n",
    "* Which assets have the best and worst Sharpe ratios? Recall that the Sharpe Ratio is simply the ratio of the mean-to-volatility of excess returns:\n",
    "$$\\text{sharpe ratio of investment }i = \\frac{\\mux_i}{\\sigma_i}$$\n",
    "\n",
    "## 2. Descriptive Analysis\n",
    "* Calculate the correlation matrix of the returns. Which pair has the highest correlation? And the lowest?\n",
    "* How well have TIPS done in our sample? Have they outperformed domestic bonds? Foreign bonds?\n",
    "\n",
    "## 3. The MV frontier.\n",
    "* Compute and display the weights of the tangency portfolios: $\\wtan$.\n",
    "* Does the ranking of weights align with the ranking of Sharpe ratios?\n",
    "* Compute the mean, volatility, and Sharpe ratio for the tangency portfolio corresponding to\n",
    "$\\wtan$.\n",
    "\n",
    "## 4. TIPS\n",
    "Assess how much the tangency portfolio (and performance) change if...\n",
    "* TIPS are dropped completely from the investment set.\n",
    "* The expected excess return to TIPS is adjusted to be 0.0012 higher than what the historic sample shows.\n",
    "\n",
    "Based on the analysis, do TIPS seem to expand the investment opportunity set, implying that Harvard should consider them as a separate asset?"
   ]
  },
  {
   "cell_type": "markdown",
   "id": "913ff75c",
   "metadata": {},
   "source": [
    "# Part 1"
   ]
  },
  {
   "cell_type": "code",
   "execution_count": 2,
   "id": "523ccf1a",
   "metadata": {},
   "outputs": [],
   "source": [
    "data = pd.read_excel('multi_asset_etf_data.xlsx', sheet_name='excess returns', index_col='Date')"
   ]
  },
  {
   "cell_type": "code",
   "execution_count": 3,
   "id": "f608087a",
   "metadata": {},
   "outputs": [
    {
     "data": {
      "text/plain": [
       "array([[ 0.0084408 , -0.00155303,  0.15502953, ...,  0.02232939,\n",
       "         0.09879309, -0.01850513],\n",
       "       [ 0.05414276,  0.16313371,  0.15987132, ...,  0.02833607,\n",
       "         0.05892453,  0.02043742],\n",
       "       [ 0.00454985, -0.02685801, -0.02309358, ..., -0.00403522,\n",
       "        -0.00125352,  0.00138325],\n",
       "       ...,\n",
       "       [ 0.00343313,  0.02473001,  0.03924009, ...,  0.01787746,\n",
       "         0.06005126, -0.00814701],\n",
       "       [ 0.00597814,  0.08338889,  0.05657879, ...,  0.01560775,\n",
       "         0.02889754, -0.00342504],\n",
       "       [-0.03009748, -0.01194504, -0.0588353 , ..., -0.0062195 ,\n",
       "        -0.01905675, -0.01442987]])"
      ]
     },
     "execution_count": 3,
     "metadata": {},
     "output_type": "execute_result"
    }
   ],
   "source": [
    "np.array(data)"
   ]
  },
  {
   "cell_type": "code",
   "execution_count": 4,
   "id": "b1a04c96",
   "metadata": {},
   "outputs": [],
   "source": [
    "mean_annualized = 12 * data.mean(axis = 0)\n",
    "std_annualized = np.sqrt(12) * data.std(axis = 0)\n",
    "sharp_ratio = mean_annualized / std_annualized\n",
    "\n",
    "descrp_statistics = pd.DataFrame({'Annualized Mean': mean_annualized, 'Annualized Volatility': std_annualized, \n",
    "                                  'Sharpe Ratio': sharp_ratio})"
   ]
  },
  {
   "cell_type": "code",
   "execution_count": 5,
   "id": "41672f4d",
   "metadata": {},
   "outputs": [
    {
     "data": {
      "text/html": [
       "<div>\n",
       "<style scoped>\n",
       "    .dataframe tbody tr th:only-of-type {\n",
       "        vertical-align: middle;\n",
       "    }\n",
       "\n",
       "    .dataframe tbody tr th {\n",
       "        vertical-align: top;\n",
       "    }\n",
       "\n",
       "    .dataframe thead th {\n",
       "        text-align: right;\n",
       "    }\n",
       "</style>\n",
       "<table border=\"1\" class=\"dataframe\">\n",
       "  <thead>\n",
       "    <tr style=\"text-align: right;\">\n",
       "      <th></th>\n",
       "      <th>Annualized Mean</th>\n",
       "      <th>Annualized Volatility</th>\n",
       "      <th>Sharpe Ratio</th>\n",
       "    </tr>\n",
       "  </thead>\n",
       "  <tbody>\n",
       "    <tr>\n",
       "      <th>BWX</th>\n",
       "      <td>-0.001843</td>\n",
       "      <td>0.083359</td>\n",
       "      <td>-0.022112</td>\n",
       "    </tr>\n",
       "    <tr>\n",
       "      <th>DBC</th>\n",
       "      <td>0.025443</td>\n",
       "      <td>0.178975</td>\n",
       "      <td>0.142162</td>\n",
       "    </tr>\n",
       "    <tr>\n",
       "      <th>EEM</th>\n",
       "      <td>0.064887</td>\n",
       "      <td>0.196531</td>\n",
       "      <td>0.330163</td>\n",
       "    </tr>\n",
       "    <tr>\n",
       "      <th>EFA</th>\n",
       "      <td>0.081597</td>\n",
       "      <td>0.165991</td>\n",
       "      <td>0.491573</td>\n",
       "    </tr>\n",
       "    <tr>\n",
       "      <th>HYG</th>\n",
       "      <td>0.064168</td>\n",
       "      <td>0.089154</td>\n",
       "      <td>0.719746</td>\n",
       "    </tr>\n",
       "    <tr>\n",
       "      <th>IEF</th>\n",
       "      <td>0.014269</td>\n",
       "      <td>0.062405</td>\n",
       "      <td>0.228652</td>\n",
       "    </tr>\n",
       "    <tr>\n",
       "      <th>IYR</th>\n",
       "      <td>0.129473</td>\n",
       "      <td>0.187101</td>\n",
       "      <td>0.691997</td>\n",
       "    </tr>\n",
       "    <tr>\n",
       "      <th>PSP</th>\n",
       "      <td>0.079938</td>\n",
       "      <td>0.227387</td>\n",
       "      <td>0.351552</td>\n",
       "    </tr>\n",
       "    <tr>\n",
       "      <th>QAI</th>\n",
       "      <td>0.018974</td>\n",
       "      <td>0.050810</td>\n",
       "      <td>0.373440</td>\n",
       "    </tr>\n",
       "    <tr>\n",
       "      <th>SPY</th>\n",
       "      <td>0.143727</td>\n",
       "      <td>0.147679</td>\n",
       "      <td>0.973245</td>\n",
       "    </tr>\n",
       "    <tr>\n",
       "      <th>TIP</th>\n",
       "      <td>0.022321</td>\n",
       "      <td>0.051529</td>\n",
       "      <td>0.433166</td>\n",
       "    </tr>\n",
       "  </tbody>\n",
       "</table>\n",
       "</div>"
      ],
      "text/plain": [
       "     Annualized Mean  Annualized Volatility  Sharpe Ratio\n",
       "BWX        -0.001843               0.083359     -0.022112\n",
       "DBC         0.025443               0.178975      0.142162\n",
       "EEM         0.064887               0.196531      0.330163\n",
       "EFA         0.081597               0.165991      0.491573\n",
       "HYG         0.064168               0.089154      0.719746\n",
       "IEF         0.014269               0.062405      0.228652\n",
       "IYR         0.129473               0.187101      0.691997\n",
       "PSP         0.079938               0.227387      0.351552\n",
       "QAI         0.018974               0.050810      0.373440\n",
       "SPY         0.143727               0.147679      0.973245\n",
       "TIP         0.022321               0.051529      0.433166"
      ]
     },
     "execution_count": 5,
     "metadata": {},
     "output_type": "execute_result"
    }
   ],
   "source": [
    "descrp_statistics"
   ]
  },
  {
   "cell_type": "markdown",
   "id": "e618e139",
   "metadata": {},
   "source": [
    "# Part 2"
   ]
  },
  {
   "cell_type": "code",
   "execution_count": 6,
   "id": "9df46350",
   "metadata": {},
   "outputs": [
    {
     "data": {
      "image/png": "[encoded data removed]",
      "text/plain": [
       "<Figure size 640x480 with 2 Axes>"
      ]
     },
     "metadata": {},
     "output_type": "display_data"
    }
   ],
   "source": [
    "sns.heatmap(data.corr());"
   ]
  },
  {
   "cell_type": "markdown",
   "id": "e3e0dbea",
   "metadata": {},
   "source": [
    "# Part 3"
   ]
  },
  {
   "cell_type": "code",
   "execution_count": 7,
   "id": "f88bb6e6",
   "metadata": {},
   "outputs": [],
   "source": [
    "def calculate_tangency_portfolio(mean_returns, cov_matrix):\n",
    "    inverted_cov_matrix = np.linalg.inv(cov_matrix)\n",
    "    ones_vector = np.ones(mean_returns.shape[0])\n",
    "    \n",
    "    weights_tangency = (1 / (ones_vector @ inverted_cov_matrix @ mean_returns)) * inverted_cov_matrix @ mean_returns\n",
    "    return weights_tangency"
   ]
  },
  {
   "cell_type": "code",
   "execution_count": 8,
   "id": "94f1b6c6",
   "metadata": {},
   "outputs": [],
   "source": [
    "def calculate_performance(mean_returns, cov_matrix, weights):\n",
    "    mean = mean_returns @ weights\n",
    "    vol = np.sqrt(weights.T @ cov_matrix @ weights) * np.sqrt(12)\n",
    "    sharpe = mean / vol\n",
    "    \n",
    "    performance_stats = pd.DataFrame({'Mean': mean, 'Volatility': vol, 'Sharpe Ratio': sharpe}, \n",
    "                                     index = ['Tangency Portfolio'])\n",
    "    return performance_stats"
   ]
  },
  {
   "cell_type": "code",
   "execution_count": 9,
   "id": "59d4f2c3",
   "metadata": {},
   "outputs": [],
   "source": [
    "mean_returns = descrp_statistics['Annualized Mean']\n",
    "cov_matrix = data.cov()\n",
    "\n",
    "weights_tangency = calculate_tangency_portfolio(mean_returns, cov_matrix)"
   ]
  },
  {
   "cell_type": "code",
   "execution_count": 10,
   "id": "0d0b563b",
   "metadata": {},
   "outputs": [
    {
     "data": {
      "text/html": [
       "<div>\n",
       "<style scoped>\n",
       "    .dataframe tbody tr th:only-of-type {\n",
       "        vertical-align: middle;\n",
       "    }\n",
       "\n",
       "    .dataframe tbody tr th {\n",
       "        vertical-align: top;\n",
       "    }\n",
       "\n",
       "    .dataframe thead th {\n",
       "        text-align: right;\n",
       "    }\n",
       "</style>\n",
       "<table border=\"1\" class=\"dataframe\">\n",
       "  <thead>\n",
       "    <tr style=\"text-align: right;\">\n",
       "      <th></th>\n",
       "      <th>Mean</th>\n",
       "      <th>Volatility</th>\n",
       "      <th>Sharpe Ratio</th>\n",
       "    </tr>\n",
       "  </thead>\n",
       "  <tbody>\n",
       "    <tr>\n",
       "      <th>Tangency Portfolio</th>\n",
       "      <td>0.37018</td>\n",
       "      <td>0.191523</td>\n",
       "      <td>1.932824</td>\n",
       "    </tr>\n",
       "  </tbody>\n",
       "</table>\n",
       "</div>"
      ],
      "text/plain": [
       "                       Mean  Volatility  Sharpe Ratio\n",
       "Tangency Portfolio  0.37018    0.191523      1.932824"
      ]
     },
     "execution_count": 10,
     "metadata": {},
     "output_type": "execute_result"
    }
   ],
   "source": [
    "performance_stats = calculate_performance(mean_returns, cov_matrix, weights_tangency)\n",
    "performance_stats"
   ]
  },
  {
   "cell_type": "markdown",
   "id": "a8609d16",
   "metadata": {},
   "source": [
    "***"
   ]
  },
  {
   "cell_type": "markdown",
   "id": "c59490d8",
   "metadata": {},
   "source": [
    "# 3. Allocations\n",
    "\n",
    "<i>This section is graded for a good-faith effort by your group. Submit your write-up- along with your supporting code."
   ]
  },
  {
   "cell_type": "markdown",
   "id": "8e5eb238",
   "metadata": {},
   "source": [
    "* Continue with the same data file as the previous section.\n",
    "\n",
    "* Suppose the investor has a targeted mean excess return (per month) of $\\mutarg$ = 0.01."
   ]
  },
  {
   "cell_type": "markdown",
   "id": "1d46b44c",
   "metadata": {},
   "source": [
    "Build the following portfolios:\n",
    "\n",
    "#### Equally-weighted (EW)\n",
    "Rescale the entire weighting vector to have target mean $\\mutarg$. Thus, the $i$ element of the weight vector is,\n",
    "$$\\wEW_i = \\frac{1}{n}$$\n",
    "\n",
    "#### “Risk-parity” (RP)\n",
    "Risk-parity is a term used in a variety of ways, but here we have in mind setting the weight of the portfolio to be proportional to the inverse of its full-sample variance estimate. Thus, the $i$ element of the weight vector is,\n",
    "$$\\wRP_i = \\frac{1}{\\sigma_i^2}$$\n",
    "\n",
    "#### Regularized (REG)\n",
    "Much like the Mean-Variance portfolio, set the weights proportional to \n",
    "$$\\wREG \\sim \\widehat{\\Sigma}^{-1}\\mux$$\n",
    "but this time, use a regularized covariance matrix,\n",
    "$$\\widehat{\\Sigma} = \\frac{\\Sigma + \\Sigma_D}{2}$$\n",
    "where $\\Sigma_D$ denotes a *diagonal* matrix of the security variances, with zeros in the off-diagonals.\n",
    "\n",
    "Thus, $\\widehat{\\Sigma}$ is obtained from the usual covariance matrix, $\\Sigma$, but shrinking all the covariances to half their estimated values. \n",
    "\n",
    "\n",
    "### Comparing\n",
    "\n",
    "In order to compare all these allocation methods, (those above, along with the tangency portfolio obtained in the previous section,) rescale each weight vector, such that it has targeted mean return of $\\mutarg$.\n",
    "\n",
    "* Calculate the performance of each of these portfolios over the sample.\n",
    "* Report their mean, volatility, and Sharpe ratio. \n",
    "* How do these compare across the four allocation methods?"
   ]
  },
  {
   "cell_type": "code",
   "execution_count": 104,
   "id": "0ceb38ed",
   "metadata": {},
   "outputs": [],
   "source": [
    "def calculate_tangency_portfolio(mean_returns, cov_matrix):\n",
    "    inverted_cov_matrix = np.linalg.inv(cov_matrix)\n",
    "    ones_vector = np.ones(mean_returns.shape[0])\n",
    "    \n",
    "    weights_tangency = (1 / (ones_vector @ inverted_cov_matrix @ mean_returns)) * inverted_cov_matrix @ mean_returns\n",
    "    return weights_tangency"
   ]
  },
  {
   "cell_type": "code",
   "execution_count": 105,
   "id": "11400c54",
   "metadata": {},
   "outputs": [],
   "source": [
    "def mvo_performance_stats(mean_returns, cov_matrix, port_weights, allocation):\n",
    "\n",
    "    ret = port_weights @ mean_returns\n",
    "    vol = np.sqrt(port_weights @ cov_matrix @ port_weights.T) * np.sqrt(12)\n",
    "    sharpe = ret / vol\n",
    "\n",
    "    stats = pd.DataFrame([[ret, vol, sharpe]] \n",
    "                         ,columns= [\"Annualized Return\", \"Annualized Volatility\", \"Annualized Sharpe Ratio\"],\n",
    "                         index = [allocation])\n",
    "    return stats"
   ]
  },
  {
   "cell_type": "code",
   "execution_count": 106,
   "id": "3ad89c41",
   "metadata": {},
   "outputs": [],
   "source": [
    "targeted_return = 0.01\n",
    "\n",
    "#total_returns = data\n",
    "mean_returns = descrp_statistics['Annualized Mean']\n",
    "cov_matrix = data.cov()"
   ]
  },
  {
   "cell_type": "markdown",
   "id": "38b7efc0",
   "metadata": {},
   "source": [
    "#### Tangency \n",
    "\n",
    "Calculate the tangency weighting vector that is the result of Sharpe Ratio maximization:\n",
    "\n",
    "$$\n",
    "\\wtan = \\frac{1}{\\textbf{1} \\Sigma \\mu} \\Sigma \\mu \n",
    "$$"
   ]
  },
  {
   "cell_type": "code",
   "execution_count": 107,
   "id": "4f1a74ef",
   "metadata": {},
   "outputs": [
    {
     "data": {
      "text/html": [
       "<div>\n",
       "<style scoped>\n",
       "    .dataframe tbody tr th:only-of-type {\n",
       "        vertical-align: middle;\n",
       "    }\n",
       "\n",
       "    .dataframe tbody tr th {\n",
       "        vertical-align: top;\n",
       "    }\n",
       "\n",
       "    .dataframe thead th {\n",
       "        text-align: right;\n",
       "    }\n",
       "</style>\n",
       "<table border=\"1\" class=\"dataframe\">\n",
       "  <thead>\n",
       "    <tr style=\"text-align: right;\">\n",
       "      <th></th>\n",
       "      <th>Annualized Return</th>\n",
       "      <th>Annualized Volatility</th>\n",
       "      <th>Annualized Sharpe Ratio</th>\n",
       "    </tr>\n",
       "  </thead>\n",
       "  <tbody>\n",
       "    <tr>\n",
       "      <th>Tangency Portfolio</th>\n",
       "      <td>0.12</td>\n",
       "      <td>0.062085</td>\n",
       "      <td>1.932824</td>\n",
       "    </tr>\n",
       "  </tbody>\n",
       "</table>\n",
       "</div>"
      ],
      "text/plain": [
       "                    Annualized Return  Annualized Volatility  \\\n",
       "Tangency Portfolio               0.12               0.062085   \n",
       "\n",
       "                    Annualized Sharpe Ratio  \n",
       "Tangency Portfolio                 1.932824  "
      ]
     },
     "execution_count": 107,
     "metadata": {},
     "output_type": "execute_result"
    }
   ],
   "source": [
    "weights_tangency = calculate_tangency_portfolio(mean_returns, cov_matrix)\n",
    "\n",
    "eq0_rescale_factor = targeted_return * 12 / (weights_tangency.T @ mean_returns)\n",
    "\n",
    "eq0_stats = mvo_performance_stats(mean_returns, cov_matrix, weights_tangency * eq0_rescale_factor, \n",
    "                                  'Tangency Portfolio')\n",
    "eq0_stats"
   ]
  },
  {
   "cell_type": "markdown",
   "id": "79455e16",
   "metadata": {},
   "source": [
    "#### Equally-weighted (EW)\n",
    "Rescale the entire weighting vector to have target mean $\\mutarg$. Thus, the $i$ element of the weight vector is,\n",
    "$$\\wEW_i = \\frac{1}{n}$$"
   ]
  },
  {
   "cell_type": "code",
   "execution_count": 108,
   "id": "14d9d346",
   "metadata": {},
   "outputs": [
    {
     "data": {
      "text/html": [
       "<div>\n",
       "<style scoped>\n",
       "    .dataframe tbody tr th:only-of-type {\n",
       "        vertical-align: middle;\n",
       "    }\n",
       "\n",
       "    .dataframe tbody tr th {\n",
       "        vertical-align: top;\n",
       "    }\n",
       "\n",
       "    .dataframe thead th {\n",
       "        text-align: right;\n",
       "    }\n",
       "</style>\n",
       "<table border=\"1\" class=\"dataframe\">\n",
       "  <thead>\n",
       "    <tr style=\"text-align: right;\">\n",
       "      <th></th>\n",
       "      <th>Annualized Return</th>\n",
       "      <th>Annualized Volatility</th>\n",
       "      <th>Annualized Sharpe Ratio</th>\n",
       "    </tr>\n",
       "  </thead>\n",
       "  <tbody>\n",
       "    <tr>\n",
       "      <th>Equal Weight Portfolio</th>\n",
       "      <td>0.12</td>\n",
       "      <td>0.213275</td>\n",
       "      <td>0.562655</td>\n",
       "    </tr>\n",
       "  </tbody>\n",
       "</table>\n",
       "</div>"
      ],
      "text/plain": [
       "                        Annualized Return  Annualized Volatility  \\\n",
       "Equal Weight Portfolio               0.12               0.213275   \n",
       "\n",
       "                        Annualized Sharpe Ratio  \n",
       "Equal Weight Portfolio                 0.562655  "
      ]
     },
     "execution_count": 108,
     "metadata": {},
     "output_type": "execute_result"
    }
   ],
   "source": [
    "equal_weights = np.array(len(cov_matrix.index) * [1 / len(cov_matrix.index)])\n",
    "eql_rescale_factor = targeted_return * 12 / (equal_weights.T @ mean_returns)\n",
    "\n",
    "eq1_stats = mvo_performance_stats(mean_returns, cov_matrix, (equal_weights * eql_rescale_factor),\n",
    "                                          'Equal Weight Portfolio')\n",
    "eq1_stats"
   ]
  },
  {
   "cell_type": "markdown",
   "id": "6995148a",
   "metadata": {},
   "source": [
    "#### “Risk-parity” (RP)\n",
    "Risk-parity is a term used in a variety of ways, but here we have in mind setting the weight of the portfolio to be proportional to the inverse of its full-sample variance estimate. Thus, the $i$ element of the weight vector is,\n",
    "$$\\wRP_i = \\frac{1}{\\sigma_i^2}$$"
   ]
  },
  {
   "cell_type": "code",
   "execution_count": 130,
   "id": "c40aed1e",
   "metadata": {},
   "outputs": [
    {
     "data": {
      "text/html": [
       "<div>\n",
       "<style scoped>\n",
       "    .dataframe tbody tr th:only-of-type {\n",
       "        vertical-align: middle;\n",
       "    }\n",
       "\n",
       "    .dataframe tbody tr th {\n",
       "        vertical-align: top;\n",
       "    }\n",
       "\n",
       "    .dataframe thead th {\n",
       "        text-align: right;\n",
       "    }\n",
       "</style>\n",
       "<table border=\"1\" class=\"dataframe\">\n",
       "  <thead>\n",
       "    <tr style=\"text-align: right;\">\n",
       "      <th></th>\n",
       "      <th>Annualized Return</th>\n",
       "      <th>Annualized Volatility</th>\n",
       "      <th>Annualized Sharpe Ratio</th>\n",
       "    </tr>\n",
       "  </thead>\n",
       "  <tbody>\n",
       "    <tr>\n",
       "      <th>Risk Parity Portfolio</th>\n",
       "      <td>0.12</td>\n",
       "      <td>0.217685</td>\n",
       "      <td>0.551256</td>\n",
       "    </tr>\n",
       "  </tbody>\n",
       "</table>\n",
       "</div>"
      ],
      "text/plain": [
       "                       Annualized Return  Annualized Volatility  \\\n",
       "Risk Parity Portfolio               0.12               0.217685   \n",
       "\n",
       "                       Annualized Sharpe Ratio  \n",
       "Risk Parity Portfolio                 0.551256  "
      ]
     },
     "execution_count": 130,
     "metadata": {},
     "output_type": "execute_result"
    }
   ],
   "source": [
    "risk_par_weights = np.array(1 / descrp_statistics['Annualized Volatility'] ** 2)\n",
    "eq2_rescale_factor = targeted_return * 12 / (risk_par_weights.T @ mean_returns)\n",
    "\n",
    "eq2_stats = mvo_performance_stats(mean_returns, cov_matrix, (risk_par_weights * eq2_rescale_factor),\n",
    "                                          'Risk Parity Portfolio')\n",
    "eq2_stats"
   ]
  },
  {
   "cell_type": "markdown",
   "id": "bce321ea",
   "metadata": {},
   "source": [
    "#### Regularized (REG)\n",
    "Much like the Mean-Variance portfolio, set the weights proportional to \n",
    "$$\\wREG \\sim \\widehat{\\Sigma}^{-1}\\mux$$\n",
    "but this time, use a regularized covariance matrix,\n",
    "$$\\widehat{\\Sigma} = \\frac{\\Sigma + \\Sigma_D}{2}$$\n",
    "where $\\Sigma_D$ denotes a *diagonal* matrix of the security variances, with zeros in the off-diagonals.\n",
    "\n",
    "Thus, $\\widehat{\\Sigma}$ is obtained from the usual covariance matrix, $\\Sigma$, but shrinking all the covariances to half their estimated values. "
   ]
  },
  {
   "cell_type": "code",
   "execution_count": 141,
   "id": "1da3ac9e",
   "metadata": {},
   "outputs": [
    {
     "data": {
      "text/html": [
       "<div>\n",
       "<style scoped>\n",
       "    .dataframe tbody tr th:only-of-type {\n",
       "        vertical-align: middle;\n",
       "    }\n",
       "\n",
       "    .dataframe tbody tr th {\n",
       "        vertical-align: top;\n",
       "    }\n",
       "\n",
       "    .dataframe thead th {\n",
       "        text-align: right;\n",
       "    }\n",
       "</style>\n",
       "<table border=\"1\" class=\"dataframe\">\n",
       "  <thead>\n",
       "    <tr style=\"text-align: right;\">\n",
       "      <th></th>\n",
       "      <th>Annualized Return</th>\n",
       "      <th>Annualized Volatility</th>\n",
       "      <th>Annualized Sharpe Ratio</th>\n",
       "    </tr>\n",
       "  </thead>\n",
       "  <tbody>\n",
       "    <tr>\n",
       "      <th>Regularized Portfolio</th>\n",
       "      <td>0.12</td>\n",
       "      <td>0.096631</td>\n",
       "      <td>1.241837</td>\n",
       "    </tr>\n",
       "  </tbody>\n",
       "</table>\n",
       "</div>"
      ],
      "text/plain": [
       "                       Annualized Return  Annualized Volatility  \\\n",
       "Regularized Portfolio               0.12               0.096631   \n",
       "\n",
       "                       Annualized Sharpe Ratio  \n",
       "Regularized Portfolio                 1.241837  "
      ]
     },
     "execution_count": 141,
     "metadata": {},
     "output_type": "execute_result"
    }
   ],
   "source": [
    "cov_matrix_reg = (cov_matrix + np.diag(np.diag(cov_matrix))) / 2\n",
    "\n",
    "\n",
    "weights_reg = calculate_tangency_portfolio(mean_returns, cov_matrix_reg)\n",
    "eq3_rescale_factor = targeted_return * 12 / (weights_reg.T @ mean_returns)\n",
    "\n",
    "eq3_stats = mvo_performance_stats(mean_returns, cov_matrix_reg, (weights_reg * eq3_rescale_factor),\n",
    "                                          'Regularized Portfolio')\n",
    "eq3_stats"
   ]
  },
  {
   "cell_type": "markdown",
   "id": "2b6a281b",
   "metadata": {},
   "source": [
    "### Comparing\n",
    "\n",
    "In order to compare all these allocation methods, (those above, along with the tangency portfolio obtained in the previous section,) rescale each weight vector, such that it has targeted mean return of $\\mutarg$.\n",
    "\n",
    "* Calculate the performance of each of these portfolios over the sample.\n",
    "* Report their mean, volatility, and Sharpe ratio. \n",
    "* How do these compare across the four allocation methods?"
   ]
  },
  {
   "cell_type": "code",
   "execution_count": 113,
   "id": "802d41f1",
   "metadata": {},
   "outputs": [
    {
     "data": {
      "text/html": [
       "<div>\n",
       "<style scoped>\n",
       "    .dataframe tbody tr th:only-of-type {\n",
       "        vertical-align: middle;\n",
       "    }\n",
       "\n",
       "    .dataframe tbody tr th {\n",
       "        vertical-align: top;\n",
       "    }\n",
       "\n",
       "    .dataframe thead th {\n",
       "        text-align: right;\n",
       "    }\n",
       "</style>\n",
       "<table border=\"1\" class=\"dataframe\">\n",
       "  <thead>\n",
       "    <tr style=\"text-align: right;\">\n",
       "      <th></th>\n",
       "      <th>Annualized Return</th>\n",
       "      <th>Annualized Volatility</th>\n",
       "      <th>Annualized Sharpe Ratio</th>\n",
       "    </tr>\n",
       "  </thead>\n",
       "  <tbody>\n",
       "    <tr>\n",
       "      <th>Tangency Portfolio</th>\n",
       "      <td>0.12</td>\n",
       "      <td>0.062085</td>\n",
       "      <td>1.932824</td>\n",
       "    </tr>\n",
       "    <tr>\n",
       "      <th>Equal Weight Portfolio</th>\n",
       "      <td>0.12</td>\n",
       "      <td>0.213275</td>\n",
       "      <td>0.562655</td>\n",
       "    </tr>\n",
       "    <tr>\n",
       "      <th>Risk Parity Portfolio</th>\n",
       "      <td>0.12</td>\n",
       "      <td>0.217685</td>\n",
       "      <td>0.551256</td>\n",
       "    </tr>\n",
       "    <tr>\n",
       "      <th>Regularized Portfolio</th>\n",
       "      <td>0.12</td>\n",
       "      <td>0.096631</td>\n",
       "      <td>1.241837</td>\n",
       "    </tr>\n",
       "  </tbody>\n",
       "</table>\n",
       "</div>"
      ],
      "text/plain": [
       "                        Annualized Return  Annualized Volatility  \\\n",
       "Tangency Portfolio                   0.12               0.062085   \n",
       "Equal Weight Portfolio               0.12               0.213275   \n",
       "Risk Parity Portfolio                0.12               0.217685   \n",
       "Regularized Portfolio                0.12               0.096631   \n",
       "\n",
       "                        Annualized Sharpe Ratio  \n",
       "Tangency Portfolio                     1.932824  \n",
       "Equal Weight Portfolio                 0.562655  \n",
       "Risk Parity Portfolio                  0.551256  \n",
       "Regularized Portfolio                  1.241837  "
      ]
     },
     "execution_count": 113,
     "metadata": {},
     "output_type": "execute_result"
    }
   ],
   "source": [
    "comparison = pd.concat([eq0_stats, eq1_stats, eq2_stats, eq3_stats])\n",
    "comparison"
   ]
  },
  {
   "cell_type": "markdown",
   "id": "4b571f35",
   "metadata": {},
   "source": [
    "**Results**:\n",
    "\n",
    "1. Tangency Portfolio, as a result of Sharpe ratio maximization, has the lowest annualized volatility (with respect to normalized returns) among all other portfolios and the highest annualized Sharpe ratio as a direct result of maximization.\n",
    "\n",
    "2. Both Equal Weight Portfolio and Risk Parity Portfolio have approximately the same annualized volatilities, which are the highest volatilities among all other portfolios. The result is expected: as for Equal Weight Portfolio, we just assume that all asset classes have the same weights, so we don't take into account risks and returns associated with them; as for Risk Parity Portfolio, the weigths of assets with high volatility are lower than those with low volatility, but the assets with low volatility typically have lower returns.\n",
    "\n",
    "3. Regularized Portfolio has slightly higher volatility than Tangency Portfolio and sufficiently lower volatility than both Equal Weight and Risk Parity Portfolio. However, there is an important result of regularization - **Robustness**. As can be seen **below**, the diagonalized weights are within a much tighter range than tangency weights are. "
   ]
  },
  {
   "cell_type": "code",
   "execution_count": 128,
   "id": "315f50f0",
   "metadata": {},
   "outputs": [
    {
     "data": {
      "text/html": [
       "<div>\n",
       "<style scoped>\n",
       "    .dataframe tbody tr th:only-of-type {\n",
       "        vertical-align: middle;\n",
       "    }\n",
       "\n",
       "    .dataframe tbody tr th {\n",
       "        vertical-align: top;\n",
       "    }\n",
       "\n",
       "    .dataframe thead th {\n",
       "        text-align: right;\n",
       "    }\n",
       "</style>\n",
       "<table border=\"1\" class=\"dataframe\">\n",
       "  <thead>\n",
       "    <tr style=\"text-align: right;\">\n",
       "      <th></th>\n",
       "      <th>Tangency Portolio</th>\n",
       "      <th>Regularized Portfolio</th>\n",
       "    </tr>\n",
       "  </thead>\n",
       "  <tbody>\n",
       "    <tr>\n",
       "      <th>0</th>\n",
       "      <td>-1.464974</td>\n",
       "      <td>-0.435042</td>\n",
       "    </tr>\n",
       "    <tr>\n",
       "      <th>1</th>\n",
       "      <td>0.028436</td>\n",
       "      <td>-0.029387</td>\n",
       "    </tr>\n",
       "    <tr>\n",
       "      <th>2</th>\n",
       "      <td>0.261028</td>\n",
       "      <td>-0.011574</td>\n",
       "    </tr>\n",
       "    <tr>\n",
       "      <th>3</th>\n",
       "      <td>0.452914</td>\n",
       "      <td>0.059016</td>\n",
       "    </tr>\n",
       "    <tr>\n",
       "      <th>4</th>\n",
       "      <td>1.528942</td>\n",
       "      <td>0.379167</td>\n",
       "    </tr>\n",
       "    <tr>\n",
       "      <th>5</th>\n",
       "      <td>1.893992</td>\n",
       "      <td>0.340717</td>\n",
       "    </tr>\n",
       "    <tr>\n",
       "      <th>6</th>\n",
       "      <td>-0.242772</td>\n",
       "      <td>0.131157</td>\n",
       "    </tr>\n",
       "    <tr>\n",
       "      <th>7</th>\n",
       "      <td>-1.271055</td>\n",
       "      <td>-0.078530</td>\n",
       "    </tr>\n",
       "    <tr>\n",
       "      <th>8</th>\n",
       "      <td>-3.133445</td>\n",
       "      <td>-0.167692</td>\n",
       "    </tr>\n",
       "    <tr>\n",
       "      <th>9</th>\n",
       "      <td>2.589999</td>\n",
       "      <td>0.446899</td>\n",
       "    </tr>\n",
       "    <tr>\n",
       "      <th>10</th>\n",
       "      <td>0.356935</td>\n",
       "      <td>0.365270</td>\n",
       "    </tr>\n",
       "  </tbody>\n",
       "</table>\n",
       "</div>"
      ],
      "text/plain": [
       "    Tangency Portolio  Regularized Portfolio\n",
       "0           -1.464974              -0.435042\n",
       "1            0.028436              -0.029387\n",
       "2            0.261028              -0.011574\n",
       "3            0.452914               0.059016\n",
       "4            1.528942               0.379167\n",
       "5            1.893992               0.340717\n",
       "6           -0.242772               0.131157\n",
       "7           -1.271055              -0.078530\n",
       "8           -3.133445              -0.167692\n",
       "9            2.589999               0.446899\n",
       "10           0.356935               0.365270"
      ]
     },
     "execution_count": 128,
     "metadata": {},
     "output_type": "execute_result"
    }
   ],
   "source": [
    "tan_vs_reg = pd.DataFrame({'Tangency Portolio': weights_tangency, 'Regularized Portfolio': weights_reg})\n",
    "tan_vs_reg"
   ]
  },
  {
   "cell_type": "code",
   "execution_count": 129,
   "id": "504cc62d",
   "metadata": {},
   "outputs": [
    {
     "data": {
      "text/plain": [
       "Tangency Portolio        2.658268\n",
       "Regularized Portfolio    0.074732\n",
       "dtype: float64"
      ]
     },
     "execution_count": 129,
     "metadata": {},
     "output_type": "execute_result"
    }
   ],
   "source": [
    "tan_vs_reg.var(axis=0)\n",
    "# Maybe explain why it is so? "
   ]
  },
  {
   "cell_type": "code",
   "execution_count": 137,
   "id": "627b9b07",
   "metadata": {},
   "outputs": [
    {
     "data": {
      "text/plain": [
       "0.2539466730134032"
      ]
     },
     "execution_count": 137,
     "metadata": {},
     "output_type": "execute_result"
    }
   ],
   "source": [
    "(weights_tangency * eq0_rescale_factor).var()\n",
    "# Better use normalized versions? Or maybe even both? Like both in general case and in normalized one"
   ]
  },
  {
   "cell_type": "code",
   "execution_count": 136,
   "id": "23d22fb2",
   "metadata": {},
   "outputs": [
    {
     "data": {
      "text/plain": [
       "0.07632176606738404"
      ]
     },
     "execution_count": 136,
     "metadata": {},
     "output_type": "execute_result"
    }
   ],
   "source": [
    "(weights_reg * eq3_rescale_factor).var()"
   ]
  },
  {
   "cell_type": "markdown",
   "id": "23ea828b",
   "metadata": {},
   "source": [
    "***"
   ]
  },
  {
   "cell_type": "markdown",
   "id": "a2a8443d",
   "metadata": {},
   "source": [
    "# 4. Out-of-Sample Performance\n",
    "\n",
    "<i>This section is not graded, and you do not need to submit it. Still, we may discuss it in class, in which case, you would be expected to know it."
   ]
  },
  {
   "cell_type": "markdown",
   "id": "24e4b25b",
   "metadata": {},
   "source": [
    "## 1. One-step Out-of-Sample (OOS) Performance\n",
    "Let’s divide the sample to both compute a portfolio and then check its performance out of sample.\n",
    "* Using only data through the end of 2021, compute the weights built in Section 3.\n",
    "* Rescale the weights, (using just the in-sample data,) to set each allocation to have the same mean return of $\\mutarg$.\n",
    "* Using those weights, calculate the portfolio’s Sharpe ratio within that sample.\n",
    "* Again using those weights, (derived using data through 2021,) calculate the portfolio’s OOS Sharpe ratio, which is based only on performance in 2022-2023."
   ]
  },
  {
   "cell_type": "markdown",
   "id": "2281c023",
   "metadata": {},
   "source": [
    "## 2. Rolling OOS Performance\n",
    "\n",
    "Iterate the Out-of-Sample performance every year, not just the final year. Namely,\n",
    "* Start at the end of 2014, and calculate the weights through that time. Rescale them using the mean returns through that time.\n",
    "* Apply the weights to the returns in the upcoming year, (2015.)\n",
    "* Step forward a year in time, and recompute.\n",
    "* Continue until again calculating the weights through 2022 and applying them to the returns in 2023.\n",
    "\n",
    "Report the mean, volatility, and Sharpe from this dynamic approach for the following portfolios:\n",
    "* mean-variance (tangency)\n",
    "* equally-weighted\n",
    "* risk-parity\n",
    "* regularized"
   ]
  },
  {
   "cell_type": "markdown",
   "id": "99dc96f3",
   "metadata": {},
   "source": [
    "***"
   ]
  },
  {
   "cell_type": "markdown",
   "id": "665b0cf7",
   "metadata": {},
   "source": [
    "# 5. Without a Riskless Asset\n",
    "\n",
    "<i>This section is not graded, and you do not need to submit it. Still, we may discuss it in class, in which case, you would be expected to know it."
   ]
  },
  {
   "cell_type": "markdown",
   "id": "b8b1ff49",
   "metadata": {},
   "source": [
    "Re-do Section 2 above, but in the model without a risk-free rate.\n",
    "\n",
    "That is, build the MV allocation using the two-part formula in the `Mean-Variance` section of the notes.\n",
    "* This essentially substitutes the risk-free rate with the minimum-variance portfolio.\n",
    "* Now, the allocation depends nonlinearly on the target mean return, $\\mutarg$. (With a risk-free rate, we simply scale the weights up and down to achieve the mean return.)\n",
    "\n",
    "You will find that, conceptually, the answers are very similar. "
   ]
  },
  {
   "cell_type": "markdown",
   "id": "e7d5734f",
   "metadata": {},
   "source": [
    "***"
   ]
  }
 ],
 "metadata": {
  "hide_input": false,
  "kernelspec": {
   "display_name": "Python 3 (ipykernel)",
   "language": "python",
   "name": "python3"
  },
  "language_info": {
   "codemirror_mode": {
    "name": "ipython",
    "version": 3
   },
   "file_extension": ".py",
   "mimetype": "text/x-python",
   "name": "python",
   "nbconvert_exporter": "python",
   "pygments_lexer": "ipython3",
   "version": "3.10.9"
  }
 },
 "nbformat": 4,
 "nbformat_minor": 5
}
