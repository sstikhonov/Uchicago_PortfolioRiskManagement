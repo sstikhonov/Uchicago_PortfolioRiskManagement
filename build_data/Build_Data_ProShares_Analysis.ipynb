{
 "cells": [
  {
   "cell_type": "markdown",
   "metadata": {},
   "source": [
    "# Required: Active Bloomberg Connection"
   ]
  },
  {
   "cell_type": "code",
   "execution_count": 1,
   "metadata": {},
   "outputs": [],
   "source": [
    "import pandas as pd\n",
    "from xbbg import blp"
   ]
  },
  {
   "cell_type": "code",
   "execution_count": 2,
   "metadata": {},
   "outputs": [],
   "source": [
    "file_out = 'proshares_analysis_data.xlsx'\n",
    "\n",
    "ticks_hedge = [\n",
    "    'HFRIFWI Index',\n",
    "    'MLEIFCTR Index',\n",
    "    'MLEIFCTX Index',\n",
    "    'HDG US Equity',\n",
    "    'QAI US Equity',\n",
    "]\n",
    "\n",
    "ticks_merrill = [\n",
    "    'SPY US Equity',\n",
    "    'USGG3M Index',\n",
    "    'EEM US Equity',\n",
    "    'EFA US Equity',\n",
    "    'EUO US Equity',\n",
    "    'IWM US Equity'\n",
    "]\n",
    "\n",
    "ticks_explore = [\n",
    "    'TRVCI Index',\n",
    "    'HEFA US Equity',\n",
    "    'TAIL US Equity',\n",
    "    'SPXU US Equity',\n",
    "    'UPRO US Equity',\n",
    "]\n",
    "\n",
    "ticks = list(set(ticks_hedge + ticks_merrill + ticks_explore))\n",
    "\n",
    "ticks_secs = []\n",
    "ticks_indexes = []\n",
    "for tick in ticks:\n",
    "    if 'Equity' in tick:\n",
    "        ticks_secs.append(tick)\n",
    "    if 'Index' in tick:\n",
    "        ticks_indexes.append(tick)\n",
    "\n",
    "ticks_yields = 'USGG3M Index'"
   ]
  },
  {
   "cell_type": "code",
   "execution_count": 3,
   "metadata": {},
   "outputs": [],
   "source": [
    "fld_secs = 'TOT_RETURN_INDEX_GROSS_DVDS'\n",
    "fld_indexes = 'PX_LAST'\n",
    "\n",
    "FLD_MKT = 'PX_LAST'\n",
    "FLD_RF = 'PX_LAST'\n",
    "\n",
    "STARTDATE = '20110701'\n",
    "ENDDATE = '20230930'\n",
    "\n",
    "ADJ = 'all'\n",
    "\n",
    "ANNUALIZATION = 12"
   ]
  },
  {
   "cell_type": "code",
   "execution_count": 4,
   "metadata": {},
   "outputs": [],
   "source": [
    "mkt = blp.bdh(ticks,flds=[FLD_MKT],start_date=STARTDATE,end_date=ENDDATE,adjust=ADJ).droplevel(level=1,axis=1)\n",
    "mkt.index = pd.to_datetime(mkt.index)"
   ]
  },
  {
   "cell_type": "markdown",
   "metadata": {},
   "source": [
    "### Get Ticker Info"
   ]
  },
  {
   "cell_type": "code",
   "execution_count": 5,
   "metadata": {},
   "outputs": [],
   "source": [
    "info = blp.bdp(ticks,flds=['SECURITY_NAME'])"
   ]
  },
  {
   "cell_type": "markdown",
   "metadata": {},
   "source": [
    "### Convert and clean data for export"
   ]
  },
  {
   "cell_type": "code",
   "execution_count": 6,
   "metadata": {},
   "outputs": [],
   "source": [
    "data_monthly = mkt.ffill().resample('m').last()\n",
    "rets = data_monthly.pct_change()\n",
    "rets[ticks_yields] = data_monthly[ticks_yields]/100/ANNUALIZATION\n",
    "rets = rets.iloc[1:]"
   ]
  },
  {
   "cell_type": "code",
   "execution_count": 7,
   "metadata": {},
   "outputs": [],
   "source": [
    "with pd.ExcelWriter(file_out) as writer:\n",
    "    info.to_excel(writer, sheet_name= 'descriptions')\n",
    "    rets[ticks_hedge].to_excel(writer, sheet_name='hedge_fund_series')\n",
    "    rets[ticks_merrill].to_excel(writer, sheet_name='merrill_factors')\n",
    "    rets[ticks_explore].to_excel(writer, sheet_name='other_data')"
   ]
  }
 ],
 "metadata": {
  "hide_input": false,
  "kernelspec": {
   "display_name": "Python 3 (ipykernel)",
   "language": "python",
   "name": "python3"
  },
  "language_info": {
   "codemirror_mode": {
    "name": "ipython",
    "version": 3
   },
   "file_extension": ".py",
   "mimetype": "text/x-python",
   "name": "python",
   "nbconvert_exporter": "python",
   "pygments_lexer": "ipython3",
   "version": "3.9.6"
  }
 },
 "nbformat": 4,
 "nbformat_minor": 4
}
